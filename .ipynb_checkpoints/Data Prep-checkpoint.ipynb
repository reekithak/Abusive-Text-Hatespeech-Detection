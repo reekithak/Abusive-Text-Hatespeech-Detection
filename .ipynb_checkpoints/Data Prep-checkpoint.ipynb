{
 "cells": [
  {
   "cell_type": "code",
   "execution_count": 1,
   "id": "6994fd91",
   "metadata": {
    "ExecuteTime": {
     "end_time": "2021-06-20T14:07:04.234890Z",
     "start_time": "2021-06-20T14:06:58.927136Z"
    }
   },
   "outputs": [],
   "source": [
    "import pandas as pd\n",
    "import numpy as np"
   ]
  },
  {
   "cell_type": "markdown",
   "id": "9adacd28",
   "metadata": {},
   "source": [
    "**Importing Data**"
   ]
  },
  {
   "cell_type": "code",
   "execution_count": 39,
   "id": "401a9943",
   "metadata": {
    "ExecuteTime": {
     "end_time": "2021-06-20T14:21:32.309128Z",
     "start_time": "2021-06-20T14:21:32.143965Z"
    }
   },
   "outputs": [],
   "source": [
    "set_a = pd.read_csv(r\"Data\\a.csv\")\n",
    "set_b = pd.read_csv(r\"Data\\b.csv\")\n",
    "set_c = pd.read_csv(r\"Data\\c.csv\")\n",
    "set_d = pd.read_csv(r\"Data\\d.csv\")"
   ]
  },
  {
   "cell_type": "markdown",
   "id": "68b2aa6a",
   "metadata": {
    "ExecuteTime": {
     "end_time": "2021-06-20T14:12:15.869341Z",
     "start_time": "2021-06-20T14:12:15.857243Z"
    }
   },
   "source": [
    "**PreProcessing**"
   ]
  },
  {
   "cell_type": "code",
   "execution_count": 40,
   "id": "7f6d3776",
   "metadata": {
    "ExecuteTime": {
     "end_time": "2021-06-20T14:21:32.916514Z",
     "start_time": "2021-06-20T14:21:32.903520Z"
    }
   },
   "outputs": [],
   "source": [
    "set_a  = set_a[['tweet','sentiment','group']]\n",
    "groups_a = set_a['group'].unique()\n",
    "set_a = set_a[set_a['sentiment']!='normal']\n",
    "a_list = set_a['tweet'].tolist()"
   ]
  },
  {
   "cell_type": "code",
   "execution_count": 41,
   "id": "50252813",
   "metadata": {
    "ExecuteTime": {
     "end_time": "2021-06-20T14:21:33.336265Z",
     "start_time": "2021-06-20T14:21:33.313273Z"
    }
   },
   "outputs": [
    {
     "data": {
      "text/html": [
       "<div>\n",
       "<style scoped>\n",
       "    .dataframe tbody tr th:only-of-type {\n",
       "        vertical-align: middle;\n",
       "    }\n",
       "\n",
       "    .dataframe tbody tr th {\n",
       "        vertical-align: top;\n",
       "    }\n",
       "\n",
       "    .dataframe thead th {\n",
       "        text-align: right;\n",
       "    }\n",
       "</style>\n",
       "<table border=\"1\" class=\"dataframe\">\n",
       "  <thead>\n",
       "    <tr style=\"text-align: right;\">\n",
       "      <th></th>\n",
       "      <th>tweet</th>\n",
       "      <th>sentiment</th>\n",
       "      <th>group</th>\n",
       "    </tr>\n",
       "  </thead>\n",
       "  <tbody>\n",
       "    <tr>\n",
       "      <th>0</th>\n",
       "      <td>call sis im boy girl still faggot shut</td>\n",
       "      <td>offensive</td>\n",
       "      <td>gay</td>\n",
       "    </tr>\n",
       "    <tr>\n",
       "      <th>1</th>\n",
       "      <td>@user @user legit nilas retarded idk</td>\n",
       "      <td>offensive_disrespectful</td>\n",
       "      <td>special_needs</td>\n",
       "    </tr>\n",
       "    <tr>\n",
       "      <th>2</th>\n",
       "      <td>said retard @url</td>\n",
       "      <td>fearful_abusive_offensive_hateful</td>\n",
       "      <td>special_needs</td>\n",
       "    </tr>\n",
       "    <tr>\n",
       "      <th>3</th>\n",
       "      <td>america another 8 years obama's ideology via h...</td>\n",
       "      <td>fearful_abusive_hateful_disrespectful_normal</td>\n",
       "      <td>other</td>\n",
       "    </tr>\n",
       "    <tr>\n",
       "      <th>4</th>\n",
       "      <td>@user don... fucking made cry twat.</td>\n",
       "      <td>offensive</td>\n",
       "      <td>women</td>\n",
       "    </tr>\n",
       "  </tbody>\n",
       "</table>\n",
       "</div>"
      ],
      "text/plain": [
       "                                               tweet  \\\n",
       "0             call sis im boy girl still faggot shut   \n",
       "1               @user @user legit nilas retarded idk   \n",
       "2                                   said retard @url   \n",
       "3  america another 8 years obama's ideology via h...   \n",
       "4                @user don... fucking made cry twat.   \n",
       "\n",
       "                                      sentiment          group  \n",
       "0                                     offensive            gay  \n",
       "1                       offensive_disrespectful  special_needs  \n",
       "2             fearful_abusive_offensive_hateful  special_needs  \n",
       "3  fearful_abusive_hateful_disrespectful_normal          other  \n",
       "4                                     offensive          women  "
      ]
     },
     "execution_count": 41,
     "metadata": {},
     "output_type": "execute_result"
    }
   ],
   "source": [
    "set_a.head()"
   ]
  },
  {
   "cell_type": "code",
   "execution_count": 42,
   "id": "d723cccd",
   "metadata": {
    "ExecuteTime": {
     "end_time": "2021-06-20T14:21:33.785750Z",
     "start_time": "2021-06-20T14:21:33.775781Z"
    }
   },
   "outputs": [
    {
     "data": {
      "text/plain": [
       "['call sis im boy girl still faggot shut',\n",
       " '@user @user legit nilas retarded idk',\n",
       " 'said retard @url',\n",
       " \"america another 8 years obama's ideology via hillary we'd well way shithole country.\",\n",
       " '@user don... fucking made cry twat.']"
      ]
     },
     "execution_count": 42,
     "metadata": {},
     "output_type": "execute_result"
    }
   ],
   "source": [
    "a_list[:5]"
   ]
  },
  {
   "cell_type": "markdown",
   "id": "976539b0",
   "metadata": {},
   "source": [
    "  "
   ]
  },
  {
   "cell_type": "markdown",
   "id": "d99190d5",
   "metadata": {},
   "source": [
    " "
   ]
  },
  {
   "cell_type": "markdown",
   "id": "87a1c17d",
   "metadata": {},
   "source": [
    "SET B\n"
   ]
  },
  {
   "cell_type": "code",
   "execution_count": 43,
   "id": "5ee2b24f",
   "metadata": {
    "ExecuteTime": {
     "end_time": "2021-06-20T14:21:34.362686Z",
     "start_time": "2021-06-20T14:21:34.343702Z"
    }
   },
   "outputs": [],
   "source": [
    "set_b  = set_b[['tweet','sentiment','group']]\n",
    "groups_b = set_b['group'].unique()\n",
    "set_b = set_b[set_b['sentiment']!='normal']\n",
    "b_list = set_b['tweet'].tolist()"
   ]
  },
  {
   "cell_type": "code",
   "execution_count": 44,
   "id": "927627a4",
   "metadata": {
    "ExecuteTime": {
     "end_time": "2021-06-20T14:21:35.202259Z",
     "start_time": "2021-06-20T14:21:35.184261Z"
    }
   },
   "outputs": [
    {
     "data": {
      "text/html": [
       "<div>\n",
       "<style scoped>\n",
       "    .dataframe tbody tr th:only-of-type {\n",
       "        vertical-align: middle;\n",
       "    }\n",
       "\n",
       "    .dataframe tbody tr th {\n",
       "        vertical-align: top;\n",
       "    }\n",
       "\n",
       "    .dataframe thead th {\n",
       "        text-align: right;\n",
       "    }\n",
       "</style>\n",
       "<table border=\"1\" class=\"dataframe\">\n",
       "  <thead>\n",
       "    <tr style=\"text-align: right;\">\n",
       "      <th></th>\n",
       "      <th>tweet</th>\n",
       "      <th>sentiment</th>\n",
       "      <th>group</th>\n",
       "    </tr>\n",
       "  </thead>\n",
       "  <tbody>\n",
       "    <tr>\n",
       "      <th>0</th>\n",
       "      <td>If America had another 8 years of Obama's ideo...</td>\n",
       "      <td>fearful_abusive_hateful_disrespectful_normal</td>\n",
       "      <td>other</td>\n",
       "    </tr>\n",
       "    <tr>\n",
       "      <th>1</th>\n",
       "      <td>Most Canadians have never met seen or associat...</td>\n",
       "      <td>offensive</td>\n",
       "      <td>special_needs</td>\n",
       "    </tr>\n",
       "    <tr>\n",
       "      <th>2</th>\n",
       "      <td>Hahaha grow up faggot @URL</td>\n",
       "      <td>offensive</td>\n",
       "      <td>women</td>\n",
       "    </tr>\n",
       "    <tr>\n",
       "      <th>3</th>\n",
       "      <td>@user queue is fucking retarded it makes every...</td>\n",
       "      <td>offensive_hateful</td>\n",
       "      <td>special_needs</td>\n",
       "    </tr>\n",
       "    <tr>\n",
       "      <th>4</th>\n",
       "      <td>@user Que ce ne soit pas des Burundais refugie...</td>\n",
       "      <td>hateful_normal</td>\n",
       "      <td>other</td>\n",
       "    </tr>\n",
       "  </tbody>\n",
       "</table>\n",
       "</div>"
      ],
      "text/plain": [
       "                                               tweet  \\\n",
       "0  If America had another 8 years of Obama's ideo...   \n",
       "1  Most Canadians have never met seen or associat...   \n",
       "2                         Hahaha grow up faggot @URL   \n",
       "3  @user queue is fucking retarded it makes every...   \n",
       "4  @user Que ce ne soit pas des Burundais refugie...   \n",
       "\n",
       "                                      sentiment          group  \n",
       "0  fearful_abusive_hateful_disrespectful_normal          other  \n",
       "1                                     offensive  special_needs  \n",
       "2                                     offensive          women  \n",
       "3                             offensive_hateful  special_needs  \n",
       "4                                hateful_normal          other  "
      ]
     },
     "execution_count": 44,
     "metadata": {},
     "output_type": "execute_result"
    }
   ],
   "source": [
    "set_b.head()"
   ]
  },
  {
   "cell_type": "code",
   "execution_count": 45,
   "id": "ca779002",
   "metadata": {
    "ExecuteTime": {
     "end_time": "2021-06-20T14:21:39.816202Z",
     "start_time": "2021-06-20T14:21:39.808204Z"
    }
   },
   "outputs": [
    {
     "data": {
      "text/plain": [
       "[\"If America had another 8 years of Obama's ideology via Hillary we'd be well on our way to being a shithole country.\",\n",
       " 'Most Canadians have never met seen or associated with a person who are currently labelled as \\\\retarded\\\\ . I plan t\\\\u2026 @URL',\n",
       " 'Hahaha grow up faggot @URL',\n",
       " \"@user queue is fucking retarded it makes everyone feel like they don't even have a chance make it fcfs again for fucksake\",\n",
       " '@user Que ce ne soit pas des Burundais refugies Alerte car leur corps sont visibles a loeil nu']"
      ]
     },
     "execution_count": 45,
     "metadata": {},
     "output_type": "execute_result"
    }
   ],
   "source": [
    "b_list[:5]"
   ]
  },
  {
   "cell_type": "markdown",
   "id": "729896d5",
   "metadata": {},
   "source": [
    " "
   ]
  },
  {
   "cell_type": "markdown",
   "id": "d8dce5c8",
   "metadata": {},
   "source": [
    " "
   ]
  },
  {
   "cell_type": "markdown",
   "id": "b0fff366",
   "metadata": {},
   "source": [
    "SET C "
   ]
  },
  {
   "cell_type": "code",
   "execution_count": 48,
   "id": "dcc33998",
   "metadata": {
    "ExecuteTime": {
     "end_time": "2021-06-20T14:22:59.183694Z",
     "start_time": "2021-06-20T14:22:59.169722Z"
    }
   },
   "outputs": [
    {
     "data": {
      "text/plain": [
       "[\"1. i joined gab to remind myself how retarded jew haters are. You wouldn't be typing on your abacus without them you retard.\\n\",\n",
       " '1. This is what the left is really scared of.    https://redd.it/9rfkts\\n2. \\tThat literally looks like a monkey. Why are we supposed to pretend it’s a person bc it’s wearing a red hat? \\n3. \\t\\tDumb Cunt\\n',\n",
       " '1. It makes you an asshole.\\n2. \\tGive it to a  soldier who has defend it , then try to burn it . Show me what a badass you really are.  The flag is helpless to stop you or fight back . Completely unnecessary act , its proves nothing and accomplishes nothing. It only shows your a ignorant weak faggot  . Like kicking a puppy ,,,  it shows how weak and worthless you are \\n',\n",
       " \"1. So they manage to provide a whole lot of data, except a critical little nugget.   Gay men are well over half the patients who present at STI clinics, and are probably the source of the emerging antibiotic-resistant pathogens.   https://www.dailymail.co.uk/health/article-6315871/One-young-person-England-told-STI-FOUR-MINUTES.html\\n2. \\tyup. i cant smoke in a bar because it's harmful to some faggot that's getting drunk, doing drugs & having an STD potluck w/ the boys later...... seems legit. \\n\",\n",
       " '1. Hi there, i,m Keith, i hope you are doing well, i would be very honored to get to know you if you would be interested? @PugLife\\n2. \\tFuck off\\n3. \\t\\twow, what a rude cunt \\n']"
      ]
     },
     "execution_count": 48,
     "metadata": {},
     "output_type": "execute_result"
    }
   ],
   "source": [
    "c_list = set_c['text'].tolist()\n",
    "c_list[:5]"
   ]
  },
  {
   "cell_type": "markdown",
   "id": "950197d0",
   "metadata": {},
   "source": [
    " "
   ]
  },
  {
   "cell_type": "markdown",
   "id": "576675b0",
   "metadata": {},
   "source": [
    " "
   ]
  },
  {
   "cell_type": "markdown",
   "id": "e03a1a1c",
   "metadata": {},
   "source": [
    "SET D "
   ]
  },
  {
   "cell_type": "code",
   "execution_count": 50,
   "id": "4feb8dff",
   "metadata": {
    "ExecuteTime": {
     "end_time": "2021-06-20T14:24:04.874926Z",
     "start_time": "2021-06-20T14:24:04.854867Z"
    }
   },
   "outputs": [
    {
     "data": {
      "text/plain": [
       "0    !!! RT @mayasolovely: As a woman you shouldn't...\n",
       "1    !!!!! RT @mleew17: boy dats cold...tyga dwn ba...\n",
       "2    !!!!!!! RT @UrKindOfBrand Dawg!!!! RT @80sbaby...\n",
       "3    !!!!!!!!! RT @C_G_Anderson: @viva_based she lo...\n",
       "4    !!!!!!!!!!!!! RT @ShenikaRoberts: The shit you...\n",
       "Name: tweet, dtype: object"
      ]
     },
     "execution_count": 50,
     "metadata": {},
     "output_type": "execute_result"
    }
   ],
   "source": [
    "d_list = set_d['tweet']\n",
    "d_list[:5]"
   ]
  },
  {
   "cell_type": "markdown",
   "id": "6e1a9c8e",
   "metadata": {},
   "source": []
  },
  {
   "cell_type": "markdown",
   "id": "df6440bc",
   "metadata": {},
   "source": []
  },
  {
   "cell_type": "markdown",
   "id": "319addb4",
   "metadata": {},
   "source": []
  }
 ],
 "metadata": {
  "kernelspec": {
   "display_name": "Python 3",
   "language": "python",
   "name": "python3"
  },
  "language_info": {
   "codemirror_mode": {
    "name": "ipython",
    "version": 3
   },
   "file_extension": ".py",
   "mimetype": "text/x-python",
   "name": "python",
   "nbconvert_exporter": "python",
   "pygments_lexer": "ipython3",
   "version": "3.7.0"
  }
 },
 "nbformat": 4,
 "nbformat_minor": 5
}
