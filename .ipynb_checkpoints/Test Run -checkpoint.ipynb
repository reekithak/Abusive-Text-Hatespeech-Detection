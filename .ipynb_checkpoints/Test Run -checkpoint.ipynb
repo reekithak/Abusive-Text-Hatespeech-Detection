{
 "cells": [
  {
   "cell_type": "code",
   "execution_count": 1,
   "id": "90273c9c",
   "metadata": {
    "ExecuteTime": {
     "end_time": "2021-07-16T14:03:16.442544Z",
     "start_time": "2021-07-16T14:03:16.426547Z"
    }
   },
   "outputs": [],
   "source": [
    "import _pickle as cPickle"
   ]
  },
  {
   "cell_type": "code",
   "execution_count": 11,
   "id": "c8f8ca0e",
   "metadata": {
    "ExecuteTime": {
     "end_time": "2021-07-16T14:06:50.381309Z",
     "start_time": "2021-07-16T14:06:42.897726Z"
    }
   },
   "outputs": [],
   "source": [
    "from numpy import loadtxt\n",
    "from keras.models import load_model"
   ]
  },
  {
   "cell_type": "code",
   "execution_count": 12,
   "id": "503f6f7e",
   "metadata": {
    "ExecuteTime": {
     "end_time": "2021-07-16T14:06:54.936721Z",
     "start_time": "2021-07-16T14:06:53.303519Z"
    }
   },
   "outputs": [],
   "source": [
    "model = load_model('Models\\dl_model.h5')"
   ]
  },
  {
   "cell_type": "code",
   "execution_count": 5,
   "id": "78554c27",
   "metadata": {
    "ExecuteTime": {
     "end_time": "2021-07-16T14:04:20.633641Z",
     "start_time": "2021-07-16T14:04:20.625641Z"
    }
   },
   "outputs": [],
   "source": [
    "with open('Models\\lr1.pkl', 'rb') as fid:\n",
    "      lr = cPickle.load(fid)\n"
   ]
  },
  {
   "cell_type": "code",
   "execution_count": 7,
   "id": "392a6e14",
   "metadata": {
    "ExecuteTime": {
     "end_time": "2021-07-16T14:04:31.342052Z",
     "start_time": "2021-07-16T14:04:31.298452Z"
    }
   },
   "outputs": [],
   "source": [
    "        \n",
    "with open('Models\\sgd1.pkl', 'rb') as fid:\n",
    "      sgd = cPickle.load(fid)\n",
    "        "
   ]
  },
  {
   "cell_type": "code",
   "execution_count": 13,
   "id": "b167073d",
   "metadata": {
    "ExecuteTime": {
     "end_time": "2021-07-16T14:06:59.703950Z",
     "start_time": "2021-07-16T14:06:59.688954Z"
    }
   },
   "outputs": [
    {
     "name": "stdout",
     "output_type": "stream",
     "text": [
      "Model: \"sequential\"\n",
      "_________________________________________________________________\n",
      "Layer (type)                 Output Shape              Param #   \n",
      "=================================================================\n",
      "dense (Dense)                (None, 512)               512512    \n",
      "_________________________________________________________________\n",
      "activation (Activation)      (None, 512)               0         \n",
      "_________________________________________________________________\n",
      "dropout (Dropout)            (None, 512)               0         \n",
      "_________________________________________________________________\n",
      "dense_1 (Dense)              (None, 2)                 1026      \n",
      "_________________________________________________________________\n",
      "activation_1 (Activation)    (None, 2)                 0         \n",
      "=================================================================\n",
      "Total params: 513,538\n",
      "Trainable params: 513,538\n",
      "Non-trainable params: 0\n",
      "_________________________________________________________________\n"
     ]
    }
   ],
   "source": [
    "model.summary()"
   ]
  },
  {
   "cell_type": "markdown",
   "id": "1e582212",
   "metadata": {
    "ExecuteTime": {
     "end_time": "2021-07-16T14:09:59.879722Z",
     "start_time": "2021-07-16T14:09:59.864723Z"
    }
   },
   "source": [
    "Temporary Predictions"
   ]
  },
  {
   "cell_type": "code",
   "execution_count": 22,
   "id": "0c682536",
   "metadata": {
    "ExecuteTime": {
     "end_time": "2021-07-16T14:09:21.593015Z",
     "start_time": "2021-07-16T14:09:21.584979Z"
    }
   },
   "outputs": [
    {
     "data": {
      "text/plain": [
       "array(['good'], dtype='<U4')"
      ]
     },
     "execution_count": 22,
     "metadata": {},
     "output_type": "execute_result"
    }
   ],
   "source": [
    "sgd.predict([\"love is an object of passion\"])"
   ]
  },
  {
   "cell_type": "code",
   "execution_count": 51,
   "id": "fcd828bf",
   "metadata": {
    "ExecuteTime": {
     "end_time": "2021-07-16T14:25:40.290526Z",
     "start_time": "2021-07-16T14:25:40.278539Z"
    }
   },
   "outputs": [
    {
     "data": {
      "text/plain": [
       "array(['bad'], dtype='<U4')"
      ]
     },
     "execution_count": 51,
     "metadata": {},
     "output_type": "execute_result"
    }
   ],
   "source": [
    "sgd.predict([\"entropy\"])"
   ]
  },
  {
   "cell_type": "code",
   "execution_count": 24,
   "id": "35849dbd",
   "metadata": {
    "ExecuteTime": {
     "end_time": "2021-07-16T14:09:42.922702Z",
     "start_time": "2021-07-16T14:09:42.912707Z"
    }
   },
   "outputs": [
    {
     "data": {
      "text/plain": [
       "array(['good'], dtype='<U4')"
      ]
     },
     "execution_count": 24,
     "metadata": {},
     "output_type": "execute_result"
    }
   ],
   "source": [
    "lr.predict([\"love is an object of passion\"])"
   ]
  },
  {
   "cell_type": "code",
   "execution_count": 53,
   "id": "178bb719",
   "metadata": {
    "ExecuteTime": {
     "end_time": "2021-07-16T14:28:50.753911Z",
     "start_time": "2021-07-16T14:28:50.741914Z"
    }
   },
   "outputs": [],
   "source": [
    "output = lr.predict([\"i hate you\"])"
   ]
  },
  {
   "cell_type": "code",
   "execution_count": 55,
   "id": "dd650ef1",
   "metadata": {
    "ExecuteTime": {
     "end_time": "2021-07-16T14:28:56.548983Z",
     "start_time": "2021-07-16T14:28:56.539013Z"
    }
   },
   "outputs": [
    {
     "data": {
      "text/plain": [
       "'bad'"
      ]
     },
     "execution_count": 55,
     "metadata": {},
     "output_type": "execute_result"
    }
   ],
   "source": [
    "output[0]"
   ]
  },
  {
   "cell_type": "code",
   "execution_count": null,
   "id": "d2d719b8",
   "metadata": {},
   "outputs": [],
   "source": []
  },
  {
   "cell_type": "code",
   "execution_count": null,
   "id": "d473ebf6",
   "metadata": {},
   "outputs": [],
   "source": []
  },
  {
   "cell_type": "code",
   "execution_count": null,
   "id": "6b222c4f",
   "metadata": {},
   "outputs": [],
   "source": []
  },
  {
   "cell_type": "code",
   "execution_count": null,
   "id": "ae52c83c",
   "metadata": {},
   "outputs": [],
   "source": []
  },
  {
   "cell_type": "code",
   "execution_count": null,
   "id": "b9aab1bb",
   "metadata": {},
   "outputs": [],
   "source": []
  }
 ],
 "metadata": {
  "kernelspec": {
   "display_name": "Python 3",
   "language": "python",
   "name": "python3"
  },
  "language_info": {
   "codemirror_mode": {
    "name": "ipython",
    "version": 3
   },
   "file_extension": ".py",
   "mimetype": "text/x-python",
   "name": "python",
   "nbconvert_exporter": "python",
   "pygments_lexer": "ipython3",
   "version": "3.7.0"
  }
 },
 "nbformat": 4,
 "nbformat_minor": 5
}
