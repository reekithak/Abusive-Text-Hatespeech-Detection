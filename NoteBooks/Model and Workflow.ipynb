{
 "cells": [
  {
   "cell_type": "code",
   "execution_count": 9,
   "id": "964fa574",
   "metadata": {
    "ExecuteTime": {
     "end_time": "2021-07-16T12:46:06.402882Z",
     "start_time": "2021-07-16T12:46:03.287263Z"
    }
   },
   "outputs": [],
   "source": [
    "import pandas as pd\n",
    "import numpy as np\n",
    "import matplotlib.pyplot as plt\n",
    "%matplotlib inline"
   ]
  },
  {
   "cell_type": "code",
   "execution_count": 44,
   "id": "be191ee3",
   "metadata": {
    "ExecuteTime": {
     "end_time": "2021-07-16T13:01:43.069648Z",
     "start_time": "2021-07-16T13:01:31.148305Z"
    }
   },
   "outputs": [
    {
     "name": "stderr",
     "output_type": "stream",
     "text": [
      "d:\\program files\\python\\lib\\site-packages\\gensim\\similarities\\__init__.py:15: UserWarning: The gensim.similarities.levenshtein submodule is disabled, because the optional Levenshtein package <https://pypi.org/project/python-Levenshtein/> is unavailable. Install Levenhstein (e.g. `pip install python-Levenshtein`) to suppress this warning.\n",
      "  warnings.warn(msg)\n"
     ]
    }
   ],
   "source": [
    "import logging\n",
    "from numpy import random\n",
    "import gensim\n",
    "import nltk\n",
    "from sklearn.model_selection import train_test_split\n",
    "from sklearn.feature_extraction.text import CountVectorizer, TfidfVectorizer\n",
    "from sklearn.metrics import accuracy_score, confusion_matrix\n",
    "from nltk.corpus import stopwords\n",
    "import re"
   ]
  },
  {
   "cell_type": "code",
   "execution_count": 2,
   "id": "08e8c7ac",
   "metadata": {
    "ExecuteTime": {
     "end_time": "2021-07-16T12:43:48.810102Z",
     "start_time": "2021-07-16T12:43:48.697523Z"
    }
   },
   "outputs": [],
   "source": [
    "data = pd.read_csv(\"finaldata.csv\")"
   ]
  },
  {
   "cell_type": "code",
   "execution_count": 6,
   "id": "68045004",
   "metadata": {
    "ExecuteTime": {
     "end_time": "2021-07-16T12:44:40.142381Z",
     "start_time": "2021-07-16T12:44:40.121323Z"
    }
   },
   "outputs": [],
   "source": [
    "data = data.drop([\"Unnamed: 0\"],axis=1)"
   ]
  },
  {
   "cell_type": "code",
   "execution_count": 7,
   "id": "c2f71466",
   "metadata": {
    "ExecuteTime": {
     "end_time": "2021-07-16T12:44:41.944494Z",
     "start_time": "2021-07-16T12:44:41.921504Z"
    },
    "scrolled": true
   },
   "outputs": [
    {
     "data": {
      "text/html": [
       "<div>\n",
       "<style scoped>\n",
       "    .dataframe tbody tr th:only-of-type {\n",
       "        vertical-align: middle;\n",
       "    }\n",
       "\n",
       "    .dataframe tbody tr th {\n",
       "        vertical-align: top;\n",
       "    }\n",
       "\n",
       "    .dataframe thead th {\n",
       "        text-align: right;\n",
       "    }\n",
       "</style>\n",
       "<table border=\"1\" class=\"dataframe\">\n",
       "  <thead>\n",
       "    <tr style=\"text-align: right;\">\n",
       "      <th></th>\n",
       "      <th>text</th>\n",
       "      <th>class</th>\n",
       "    </tr>\n",
       "  </thead>\n",
       "  <tbody>\n",
       "    <tr>\n",
       "      <th>0</th>\n",
       "      <td>call sis im boy girl still faggot shut</td>\n",
       "      <td>bad</td>\n",
       "    </tr>\n",
       "    <tr>\n",
       "      <th>1</th>\n",
       "      <td>legit nilas retarded idk</td>\n",
       "      <td>bad</td>\n",
       "    </tr>\n",
       "    <tr>\n",
       "      <th>2</th>\n",
       "      <td>said retard</td>\n",
       "      <td>bad</td>\n",
       "    </tr>\n",
       "    <tr>\n",
       "      <th>3</th>\n",
       "      <td>america another 8 years obamas ideology via hi...</td>\n",
       "      <td>bad</td>\n",
       "    </tr>\n",
       "    <tr>\n",
       "      <th>4</th>\n",
       "      <td>don fucking made cry twat</td>\n",
       "      <td>bad</td>\n",
       "    </tr>\n",
       "    <tr>\n",
       "      <th>...</th>\n",
       "      <td>...</td>\n",
       "      <td>...</td>\n",
       "    </tr>\n",
       "    <tr>\n",
       "      <th>47579</th>\n",
       "      <td>Man beast said may creepeth that fifth give a...</td>\n",
       "      <td>good</td>\n",
       "    </tr>\n",
       "    <tr>\n",
       "      <th>47580</th>\n",
       "      <td>Can't may divide isn't appear Upon spirit lan...</td>\n",
       "      <td>good</td>\n",
       "    </tr>\n",
       "    <tr>\n",
       "      <th>47581</th>\n",
       "      <td>Whales rule second they're won't good were</td>\n",
       "      <td>good</td>\n",
       "    </tr>\n",
       "    <tr>\n",
       "      <th>47582</th>\n",
       "      <td>Isn't shall</td>\n",
       "      <td>good</td>\n",
       "    </tr>\n",
       "    <tr>\n",
       "      <th>47583</th>\n",
       "      <td>NaN</td>\n",
       "      <td>good</td>\n",
       "    </tr>\n",
       "  </tbody>\n",
       "</table>\n",
       "<p>47584 rows × 2 columns</p>\n",
       "</div>"
      ],
      "text/plain": [
       "                                                    text class\n",
       "0                 call sis im boy girl still faggot shut   bad\n",
       "1                               legit nilas retarded idk   bad\n",
       "2                                           said retard    bad\n",
       "3      america another 8 years obamas ideology via hi...   bad\n",
       "4                              don fucking made cry twat   bad\n",
       "...                                                  ...   ...\n",
       "47579   Man beast said may creepeth that fifth give a...  good\n",
       "47580   Can't may divide isn't appear Upon spirit lan...  good\n",
       "47581         Whales rule second they're won't good were  good\n",
       "47582                                        Isn't shall  good\n",
       "47583                                                NaN  good\n",
       "\n",
       "[47584 rows x 2 columns]"
      ]
     },
     "execution_count": 7,
     "metadata": {},
     "output_type": "execute_result"
    }
   ],
   "source": [
    "data"
   ]
  },
  {
   "cell_type": "code",
   "execution_count": 26,
   "id": "1d7fb2f1",
   "metadata": {
    "ExecuteTime": {
     "end_time": "2021-07-16T12:50:58.775740Z",
     "start_time": "2021-07-16T12:50:58.751827Z"
    }
   },
   "outputs": [],
   "source": [
    "temp_bad = data[data[\"class\"]==\"bad\"]\n",
    "temp_good = data[data[\"class\"]==\"good\"]"
   ]
  },
  {
   "cell_type": "code",
   "execution_count": 27,
   "id": "27de55d1",
   "metadata": {
    "ExecuteTime": {
     "end_time": "2021-07-16T12:51:01.228326Z",
     "start_time": "2021-07-16T12:51:01.216309Z"
    }
   },
   "outputs": [],
   "source": [
    "temp_bad = temp_bad[:1800]"
   ]
  },
  {
   "cell_type": "code",
   "execution_count": 28,
   "id": "f42af35c",
   "metadata": {
    "ExecuteTime": {
     "end_time": "2021-07-16T12:51:23.275607Z",
     "start_time": "2021-07-16T12:51:23.264607Z"
    }
   },
   "outputs": [],
   "source": [
    "data = temp_good.append(temp_bad,ignore_index=True)"
   ]
  },
  {
   "cell_type": "code",
   "execution_count": 124,
   "id": "a93e3f1d",
   "metadata": {
    "ExecuteTime": {
     "end_time": "2021-07-16T13:55:17.995710Z",
     "start_time": "2021-07-16T13:55:17.936143Z"
    }
   },
   "outputs": [
    {
     "data": {
      "text/html": [
       "<div>\n",
       "<style scoped>\n",
       "    .dataframe tbody tr th:only-of-type {\n",
       "        vertical-align: middle;\n",
       "    }\n",
       "\n",
       "    .dataframe tbody tr th {\n",
       "        vertical-align: top;\n",
       "    }\n",
       "\n",
       "    .dataframe thead th {\n",
       "        text-align: right;\n",
       "    }\n",
       "</style>\n",
       "<table border=\"1\" class=\"dataframe\">\n",
       "  <thead>\n",
       "    <tr style=\"text-align: right;\">\n",
       "      <th></th>\n",
       "      <th>text</th>\n",
       "      <th>class</th>\n",
       "    </tr>\n",
       "  </thead>\n",
       "  <tbody>\n",
       "    <tr>\n",
       "      <th>0</th>\n",
       "      <td>Mason's decision to leave the team as an undra...</td>\n",
       "      <td>good</td>\n",
       "    </tr>\n",
       "    <tr>\n",
       "      <th>1</th>\n",
       "      <td>He had been eyeing the Rams, particularly his...</td>\n",
       "      <td>good</td>\n",
       "    </tr>\n",
       "    <tr>\n",
       "      <th>2</th>\n",
       "      <td>Mason was at a very young age when the 49ers ...</td>\n",
       "      <td>good</td>\n",
       "    </tr>\n",
       "    <tr>\n",
       "      <th>3</th>\n",
       "      <td>I've been thinking this for the last 2</td>\n",
       "      <td>good</td>\n",
       "    </tr>\n",
       "    <tr>\n",
       "      <th>4</th>\n",
       "      <td>20 years</td>\n",
       "      <td>good</td>\n",
       "    </tr>\n",
       "    <tr>\n",
       "      <th>...</th>\n",
       "      <td>...</td>\n",
       "      <td>...</td>\n",
       "    </tr>\n",
       "    <tr>\n",
       "      <th>2799</th>\n",
       "      <td>alfies life lesson no 15678nif gonna act twat ...</td>\n",
       "      <td>bad</td>\n",
       "    </tr>\n",
       "    <tr>\n",
       "      <th>2800</th>\n",
       "      <td>demorats wants change country wants america li...</td>\n",
       "      <td>bad</td>\n",
       "    </tr>\n",
       "    <tr>\n",
       "      <th>2801</th>\n",
       "      <td>shit watch twitter get locked saying faggot w...</td>\n",
       "      <td>bad</td>\n",
       "    </tr>\n",
       "    <tr>\n",
       "      <th>2802</th>\n",
       "      <td>oh fuck pompous cunt neil portilo</td>\n",
       "      <td>bad</td>\n",
       "    </tr>\n",
       "    <tr>\n",
       "      <th>2803</th>\n",
       "      <td>hurrrr durrr actual numbers mean nothing her...</td>\n",
       "      <td>bad</td>\n",
       "    </tr>\n",
       "  </tbody>\n",
       "</table>\n",
       "<p>2804 rows × 2 columns</p>\n",
       "</div>"
      ],
      "text/plain": [
       "                                                   text class\n",
       "0     Mason's decision to leave the team as an undra...  good\n",
       "1      He had been eyeing the Rams, particularly his...  good\n",
       "2      Mason was at a very young age when the 49ers ...  good\n",
       "3                I've been thinking this for the last 2  good\n",
       "4                                              20 years  good\n",
       "...                                                 ...   ...\n",
       "2799  alfies life lesson no 15678nif gonna act twat ...   bad\n",
       "2800  demorats wants change country wants america li...   bad\n",
       "2801   shit watch twitter get locked saying faggot w...   bad\n",
       "2802                 oh fuck pompous cunt neil portilo    bad\n",
       "2803    hurrrr durrr actual numbers mean nothing her...   bad\n",
       "\n",
       "[2804 rows x 2 columns]"
      ]
     },
     "execution_count": 124,
     "metadata": {},
     "output_type": "execute_result"
    }
   ],
   "source": [
    "data"
   ]
  },
  {
   "cell_type": "code",
   "execution_count": 30,
   "id": "1b97d368",
   "metadata": {
    "ExecuteTime": {
     "end_time": "2021-07-16T12:51:29.181893Z",
     "start_time": "2021-07-16T12:51:29.057060Z"
    }
   },
   "outputs": [
    {
     "data": {
      "image/png": "[encoded data removed]",
      "text/plain": [
       "<Figure size 720x288 with 1 Axes>"
      ]
     },
     "metadata": {
      "needs_background": "light"
     },
     "output_type": "display_data"
    }
   ],
   "source": [
    "my_tags = ['bad','good']\n",
    "plt.figure(figsize=(10,4))\n",
    "data['class'].value_counts().plot(kind='bar');"
   ]
  },
  {
   "cell_type": "code",
   "execution_count": 126,
   "id": "d39645c6",
   "metadata": {
    "ExecuteTime": {
     "end_time": "2021-07-16T13:55:24.350352Z",
     "start_time": "2021-07-16T13:55:24.332466Z"
    }
   },
   "outputs": [],
   "source": [
    "df = data"
   ]
  },
  {
   "cell_type": "code",
   "execution_count": 127,
   "id": "654c9401",
   "metadata": {
    "ExecuteTime": {
     "end_time": "2021-07-16T13:55:50.107742Z",
     "start_time": "2021-07-16T13:55:50.060577Z"
    }
   },
   "outputs": [],
   "source": [
    "df = df.sample(frac=1).reset_index(drop=True)"
   ]
  },
  {
   "cell_type": "markdown",
   "id": "8df65132",
   "metadata": {},
   "source": [
    " "
   ]
  },
  {
   "cell_type": "markdown",
   "id": "93ac5742",
   "metadata": {},
   "source": [
    " "
   ]
  },
  {
   "cell_type": "markdown",
   "id": "1598a124",
   "metadata": {},
   "source": [
    "**Training and works** "
   ]
  },
  {
   "cell_type": "code",
   "execution_count": 129,
   "id": "11427e59",
   "metadata": {
    "ExecuteTime": {
     "end_time": "2021-07-16T13:55:59.022941Z",
     "start_time": "2021-07-16T13:55:59.011896Z"
    }
   },
   "outputs": [],
   "source": [
    "v = TfidfVectorizer(decode_error='replace', encoding='utf-8')"
   ]
  },
  {
   "cell_type": "code",
   "execution_count": 130,
   "id": "a0c51584",
   "metadata": {
    "ExecuteTime": {
     "end_time": "2021-07-16T13:55:59.735593Z",
     "start_time": "2021-07-16T13:55:59.697550Z"
    }
   },
   "outputs": [],
   "source": [
    "X = df['text'].values.astype('U')\n",
    "y = df['class'].values.astype('U')\n",
    "X_train, X_test, y_train, y_test = train_test_split(X, y, test_size=0.3, random_state = 42)"
   ]
  },
  {
   "cell_type": "code",
   "execution_count": 131,
   "id": "7921e3de",
   "metadata": {
    "ExecuteTime": {
     "end_time": "2021-07-16T13:56:00.402828Z",
     "start_time": "2021-07-16T13:56:00.389208Z"
    }
   },
   "outputs": [],
   "source": [
    "import _pickle as cPickle\n",
    "# with open('my_dumped_classifier.pkl', 'wb') as fid:\n",
    "#     cPickle.dump(gnb, fid)    \n",
    "\n",
    "# # load it again\n",
    "# with open('my_dumped_classifier.pkl', 'rb') as fid:\n",
    "#     gnb_loaded = cPickle.load(fid)"
   ]
  },
  {
   "cell_type": "markdown",
   "id": "e2b43218",
   "metadata": {},
   "source": [
    " "
   ]
  },
  {
   "cell_type": "markdown",
   "id": "957c244d",
   "metadata": {},
   "source": [
    "1.) Naive Bayes\n"
   ]
  },
  {
   "cell_type": "code",
   "execution_count": 132,
   "id": "96aa4bda",
   "metadata": {
    "ExecuteTime": {
     "end_time": "2021-07-16T13:56:02.009179Z",
     "start_time": "2021-07-16T13:56:02.004184Z"
    }
   },
   "outputs": [],
   "source": [
    "from sklearn.linear_model import SGDClassifier\n",
    "from sklearn.naive_bayes import MultinomialNB\n",
    "from sklearn.pipeline import Pipeline\n",
    "from sklearn.feature_extraction.text import TfidfTransformer"
   ]
  },
  {
   "cell_type": "code",
   "execution_count": 133,
   "id": "366267a0",
   "metadata": {
    "ExecuteTime": {
     "end_time": "2021-07-16T13:56:02.524973Z",
     "start_time": "2021-07-16T13:56:02.381632Z"
    }
   },
   "outputs": [
    {
     "data": {
      "text/plain": [
       "Pipeline(steps=[('vect', CountVectorizer()), ('tfidf', TfidfTransformer()),\n",
       "                ('clf', MultinomialNB())])"
      ]
     },
     "execution_count": 133,
     "metadata": {},
     "output_type": "execute_result"
    }
   ],
   "source": [
    "nb = Pipeline([('vect', CountVectorizer()),\n",
    "               ('tfidf', TfidfTransformer()),\n",
    "               ('clf', MultinomialNB()),\n",
    "              ])\n",
    "nb.fit(X_train, y_train)"
   ]
  },
  {
   "cell_type": "code",
   "execution_count": 134,
   "id": "e912dcc2",
   "metadata": {
    "ExecuteTime": {
     "end_time": "2021-07-16T13:56:03.661352Z",
     "start_time": "2021-07-16T13:56:03.645256Z"
    }
   },
   "outputs": [],
   "source": [
    "from sklearn.metrics import classification_report\n",
    "y_pred = nb.predict(X_test)\n"
   ]
  },
  {
   "cell_type": "code",
   "execution_count": 135,
   "id": "97410235",
   "metadata": {
    "ExecuteTime": {
     "end_time": "2021-07-16T13:56:04.375489Z",
     "start_time": "2021-07-16T13:56:04.348476Z"
    }
   },
   "outputs": [
    {
     "name": "stdout",
     "output_type": "stream",
     "text": [
      "accuracy 0.994061757719715\n",
      "              precision    recall  f1-score   support\n",
      "\n",
      "         bad       0.99      1.00      1.00       541\n",
      "        good       0.99      0.99      0.99       301\n",
      "\n",
      "    accuracy                           0.99       842\n",
      "   macro avg       0.99      0.99      0.99       842\n",
      "weighted avg       0.99      0.99      0.99       842\n",
      "\n"
     ]
    }
   ],
   "source": [
    "print('accuracy %s' % accuracy_score(y_pred, y_test))\n",
    "print(classification_report(y_test, y_pred,target_names=my_tags))"
   ]
  },
  {
   "cell_type": "code",
   "execution_count": 136,
   "id": "39f205a0",
   "metadata": {
    "ExecuteTime": {
     "end_time": "2021-07-16T13:56:05.730337Z",
     "start_time": "2021-07-16T13:56:05.692183Z"
    }
   },
   "outputs": [],
   "source": [
    "with open('nb1.pkl', 'wb') as fid:\n",
    "      cPickle.dump(nb, fid)  "
   ]
  },
  {
   "cell_type": "markdown",
   "id": "0299f4b3",
   "metadata": {},
   "source": [
    " "
   ]
  },
  {
   "cell_type": "markdown",
   "id": "c27285a6",
   "metadata": {},
   "source": [
    " "
   ]
  },
  {
   "cell_type": "markdown",
   "id": "4627f00e",
   "metadata": {},
   "source": [
    "2.) Linear SVM"
   ]
  },
  {
   "cell_type": "code",
   "execution_count": 137,
   "id": "ae48c62d",
   "metadata": {
    "ExecuteTime": {
     "end_time": "2021-07-16T13:56:07.470764Z",
     "start_time": "2021-07-16T13:56:07.332147Z"
    }
   },
   "outputs": [
    {
     "name": "stdout",
     "output_type": "stream",
     "text": [
      "accuracy 0.9857482185273159\n",
      "              precision    recall  f1-score   support\n",
      "\n",
      "         bad       0.98      1.00      0.99       541\n",
      "        good       1.00      0.96      0.98       301\n",
      "\n",
      "    accuracy                           0.99       842\n",
      "   macro avg       0.99      0.98      0.98       842\n",
      "weighted avg       0.99      0.99      0.99       842\n",
      "\n"
     ]
    }
   ],
   "source": [
    "sgd = Pipeline([('vect', CountVectorizer()),\n",
    "                ('tfidf', TfidfTransformer()),\n",
    "                ('clf', SGDClassifier(loss='hinge', penalty='l2',alpha=1e-3, random_state=42, max_iter=5, tol=None)),\n",
    "               ])\n",
    "sgd.fit(X_train, y_train)\n",
    "y_pred = sgd.predict(X_test)\n",
    "\n",
    "print('accuracy %s' % accuracy_score(y_pred, y_test))\n",
    "print(classification_report(y_test, y_pred,target_names=my_tags))"
   ]
  },
  {
   "cell_type": "code",
   "execution_count": 138,
   "id": "9f80f428",
   "metadata": {
    "ExecuteTime": {
     "end_time": "2021-07-16T13:56:07.693381Z",
     "start_time": "2021-07-16T13:56:07.677360Z"
    }
   },
   "outputs": [],
   "source": [
    "with open('sgd1.pkl', 'wb') as fid:\n",
    "      cPickle.dump(nb, fid)  "
   ]
  },
  {
   "cell_type": "markdown",
   "id": "a6b562f5",
   "metadata": {},
   "source": [
    " "
   ]
  },
  {
   "cell_type": "markdown",
   "id": "8dada413",
   "metadata": {},
   "source": [
    "  "
   ]
  },
  {
   "cell_type": "markdown",
   "id": "bb3c216c",
   "metadata": {},
   "source": [
    " \n",
    " "
   ]
  },
  {
   "cell_type": "markdown",
   "id": "f9eefd9b",
   "metadata": {},
   "source": [
    "Logistic Regression"
   ]
  },
  {
   "cell_type": "code",
   "execution_count": 139,
   "id": "f9e43482",
   "metadata": {
    "ExecuteTime": {
     "end_time": "2021-07-16T13:56:11.182041Z",
     "start_time": "2021-07-16T13:56:11.004787Z"
    }
   },
   "outputs": [
    {
     "name": "stdout",
     "output_type": "stream",
     "text": [
      "accuracy 0.995249406175772\n",
      "              precision    recall  f1-score   support\n",
      "\n",
      "         bad       1.00      0.99      1.00       541\n",
      "        good       0.99      1.00      0.99       301\n",
      "\n",
      "    accuracy                           1.00       842\n",
      "   macro avg       0.99      1.00      0.99       842\n",
      "weighted avg       1.00      1.00      1.00       842\n",
      "\n"
     ]
    }
   ],
   "source": [
    "from sklearn.linear_model import LogisticRegression\n",
    "\n",
    "logreg = Pipeline([('vect', CountVectorizer()),\n",
    "                ('tfidf', TfidfTransformer()),\n",
    "                ('clf', LogisticRegression(n_jobs=1, C=1e5)),\n",
    "               ])\n",
    "logreg.fit(X_train, y_train)\n",
    "\n",
    "y_pred = logreg.predict(X_test)\n",
    "\n",
    "print('accuracy %s' % accuracy_score(y_pred, y_test))\n",
    "print(classification_report(y_test, y_pred,target_names=my_tags))"
   ]
  },
  {
   "cell_type": "code",
   "execution_count": 140,
   "id": "f03cc737",
   "metadata": {
    "ExecuteTime": {
     "end_time": "2021-07-16T13:56:11.355175Z",
     "start_time": "2021-07-16T13:56:11.324077Z"
    }
   },
   "outputs": [],
   "source": [
    "with open('lr1.pkl', 'wb') as fid:\n",
    "      cPickle.dump(nb, fid)  "
   ]
  },
  {
   "cell_type": "markdown",
   "id": "edd851d1",
   "metadata": {},
   "source": [
    " "
   ]
  },
  {
   "cell_type": "markdown",
   "id": "324da8b3",
   "metadata": {},
   "source": [
    " "
   ]
  },
  {
   "cell_type": "markdown",
   "id": "38606f3c",
   "metadata": {},
   "source": [
    " "
   ]
  },
  {
   "cell_type": "markdown",
   "id": "fa9975de",
   "metadata": {},
   "source": [
    " "
   ]
  },
  {
   "cell_type": "markdown",
   "id": "d234b630",
   "metadata": {},
   "source": [
    "Bag of Words + Keras"
   ]
  },
  {
   "cell_type": "code",
   "execution_count": 141,
   "id": "f5c68f4c",
   "metadata": {
    "ExecuteTime": {
     "end_time": "2021-07-16T13:56:15.170334Z",
     "start_time": "2021-07-16T13:56:15.163311Z"
    }
   },
   "outputs": [],
   "source": [
    "import itertools\n",
    "import os\n",
    "\n",
    "%matplotlib inline\n",
    "import matplotlib.pyplot as plt\n",
    "import numpy as np\n",
    "import pandas as pd\n",
    "import tensorflow as tf\n",
    "\n",
    "from sklearn.preprocessing import LabelBinarizer, LabelEncoder\n",
    "from sklearn.metrics import confusion_matrix"
   ]
  },
  {
   "cell_type": "code",
   "execution_count": 142,
   "id": "1c19d71e",
   "metadata": {
    "ExecuteTime": {
     "end_time": "2021-07-16T13:56:15.373269Z",
     "start_time": "2021-07-16T13:56:15.362265Z"
    }
   },
   "outputs": [],
   "source": [
    "from tensorflow import keras\n",
    "from keras.models import Sequential\n",
    "from keras.layers import Dense, Activation, Dropout\n",
    "from keras.preprocessing import text, sequence\n",
    "from keras import utils"
   ]
  },
  {
   "cell_type": "code",
   "execution_count": 146,
   "id": "6117edc4",
   "metadata": {
    "ExecuteTime": {
     "end_time": "2021-07-16T13:57:14.256926Z",
     "start_time": "2021-07-16T13:57:14.245312Z"
    }
   },
   "outputs": [],
   "source": [
    "train_size = int(len(df) * .7)\n",
    "train_posts = df['text'][:train_size].astype('U')\n",
    "train_tags = df['class'][:train_size].astype('U')\n",
    "\n",
    "test_posts = df['text'][train_size:].astype('U')\n",
    "test_tags = df['class'][train_size:].astype('U')"
   ]
  },
  {
   "cell_type": "code",
   "execution_count": 147,
   "id": "345ba363",
   "metadata": {
    "ExecuteTime": {
     "end_time": "2021-07-16T13:57:14.696873Z",
     "start_time": "2021-07-16T13:57:14.604950Z"
    }
   },
   "outputs": [],
   "source": [
    "max_words = 1000\n",
    "tokenize = text.Tokenizer(num_words=max_words, char_level=False)\n",
    "tokenize.fit_on_texts(train_posts) # only fit on train\n",
    "\n",
    "x_train = tokenize.texts_to_matrix(train_posts)\n",
    "x_test = tokenize.texts_to_matrix(test_posts)"
   ]
  },
  {
   "cell_type": "code",
   "execution_count": 148,
   "id": "59f0c3ef",
   "metadata": {
    "ExecuteTime": {
     "end_time": "2021-07-16T13:57:23.270722Z",
     "start_time": "2021-07-16T13:57:23.266720Z"
    }
   },
   "outputs": [],
   "source": [
    "encoder = LabelEncoder()\n",
    "encoder.fit(train_tags)\n",
    "y_train = encoder.transform(train_tags)\n",
    "y_test = encoder.transform(test_tags)"
   ]
  },
  {
   "cell_type": "code",
   "execution_count": 149,
   "id": "f72da3ed",
   "metadata": {
    "ExecuteTime": {
     "end_time": "2021-07-16T13:57:30.798224Z",
     "start_time": "2021-07-16T13:57:30.784225Z"
    }
   },
   "outputs": [],
   "source": [
    "num_classes = np.max(y_train) + 1\n",
    "y_train = utils.to_categorical(y_train, num_classes)\n",
    "y_test = utils.to_categorical(y_test, num_classes)"
   ]
  },
  {
   "cell_type": "code",
   "execution_count": 150,
   "id": "b2a7a1f1",
   "metadata": {
    "ExecuteTime": {
     "end_time": "2021-07-16T13:57:34.072767Z",
     "start_time": "2021-07-16T13:57:34.054667Z"
    }
   },
   "outputs": [
    {
     "data": {
      "text/plain": [
       "2"
      ]
     },
     "execution_count": 150,
     "metadata": {},
     "output_type": "execute_result"
    }
   ],
   "source": [
    "num_classes"
   ]
  },
  {
   "cell_type": "code",
   "execution_count": 153,
   "id": "75b3e95d",
   "metadata": {
    "ExecuteTime": {
     "end_time": "2021-07-16T13:57:47.906251Z",
     "start_time": "2021-07-16T13:57:47.891251Z"
    }
   },
   "outputs": [],
   "source": [
    "batch_size = 32\n",
    "epochs = 3"
   ]
  },
  {
   "cell_type": "code",
   "execution_count": 152,
   "id": "8d71caf8",
   "metadata": {
    "ExecuteTime": {
     "end_time": "2021-07-16T13:57:46.736268Z",
     "start_time": "2021-07-16T13:57:44.930839Z"
    }
   },
   "outputs": [],
   "source": [
    "model = Sequential()\n",
    "model.add(Dense(512, input_shape=(max_words,)))\n",
    "model.add(Activation('relu'))\n",
    "model.add(Dropout(0.5))\n",
    "model.add(Dense(num_classes))\n",
    "model.add(Activation('softmax'))\n",
    "\n",
    "model.compile(loss='categorical_crossentropy',\n",
    "              optimizer='adam',\n",
    "              metrics=['accuracy'])"
   ]
  },
  {
   "cell_type": "code",
   "execution_count": 154,
   "id": "741ba039",
   "metadata": {
    "ExecuteTime": {
     "end_time": "2021-07-16T13:58:05.832591Z",
     "start_time": "2021-07-16T13:58:03.924981Z"
    }
   },
   "outputs": [
    {
     "name": "stdout",
     "output_type": "stream",
     "text": [
      "Epoch 1/3\n",
      "56/56 [==============================] - 1s 13ms/step - loss: 0.5084 - accuracy: 0.8003 - val_loss: 0.1583 - val_accuracy: 0.9340\n",
      "Epoch 2/3\n",
      "56/56 [==============================] - 0s 4ms/step - loss: 0.1065 - accuracy: 0.9622 - val_loss: 0.0555 - val_accuracy: 1.0000\n",
      "Epoch 3/3\n",
      "56/56 [==============================] - 0s 4ms/step - loss: 0.0338 - accuracy: 0.9991 - val_loss: 0.0306 - val_accuracy: 1.0000\n"
     ]
    }
   ],
   "source": [
    "dl_model = model.fit(x_train, y_train,\n",
    "                    batch_size=batch_size,\n",
    "                    epochs=epochs,\n",
    "                    verbose=1,\n",
    "                    validation_split=0.1)"
   ]
  },
  {
   "cell_type": "code",
   "execution_count": 155,
   "id": "aacd3118",
   "metadata": {
    "ExecuteTime": {
     "end_time": "2021-07-16T13:58:15.720034Z",
     "start_time": "2021-07-16T13:58:15.628632Z"
    }
   },
   "outputs": [
    {
     "name": "stdout",
     "output_type": "stream",
     "text": [
      "27/27 [==============================] - 0s 2ms/step - loss: 0.0237 - accuracy: 0.9964\n",
      "Test accuracy: 0.9964370727539062\n"
     ]
    }
   ],
   "source": [
    "score = model.evaluate(x_test, y_test,\n",
    "                       batch_size=batch_size, verbose=1)\n",
    "print('Test accuracy:', score[1])"
   ]
  },
  {
   "cell_type": "code",
   "execution_count": 157,
   "id": "60507257",
   "metadata": {
    "ExecuteTime": {
     "end_time": "2021-07-16T13:59:05.557573Z",
     "start_time": "2021-07-16T13:59:05.420266Z"
    }
   },
   "outputs": [],
   "source": [
    "model.save(\"dl_model.h5\")"
   ]
  },
  {
   "cell_type": "markdown",
   "id": "2d15a85b",
   "metadata": {},
   "source": [
    "**Training Ended**"
   ]
  },
  {
   "cell_type": "code",
   "execution_count": null,
   "id": "80201b00",
   "metadata": {},
   "outputs": [],
   "source": []
  }
 ],
 "metadata": {
  "kernelspec": {
   "display_name": "Python 3",
   "language": "python",
   "name": "python3"
  },
  "language_info": {
   "codemirror_mode": {
    "name": "ipython",
    "version": 3
   },
   "file_extension": ".py",
   "mimetype": "text/x-python",
   "name": "python",
   "nbconvert_exporter": "python",
   "pygments_lexer": "ipython3",
   "version": "3.7.0"
  }
 },
 "nbformat": 4,
 "nbformat_minor": 5
}
