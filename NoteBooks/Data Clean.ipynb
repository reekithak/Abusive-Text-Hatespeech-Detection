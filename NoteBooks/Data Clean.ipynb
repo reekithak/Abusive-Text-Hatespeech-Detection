{
 "cells": [
  {
   "cell_type": "code",
   "execution_count": 4,
   "id": "8c26817b",
   "metadata": {
    "ExecuteTime": {
     "end_time": "2021-06-21T15:48:51.876876Z",
     "start_time": "2021-06-21T15:48:51.669844Z"
    }
   },
   "outputs": [
    {
     "name": "stderr",
     "output_type": "stream",
     "text": [
      "[nltk_data] Downloading package stopwords to C:\\Users\\Akhil\n",
      "[nltk_data]     Sanker\\AppData\\Roaming\\nltk_data...\n",
      "[nltk_data]   Package stopwords is already up-to-date!\n"
     ]
    }
   ],
   "source": [
    "import pandas as pd\n",
    "import numpy as np \n",
    "from nltk.corpus import stopwords\n",
    "import nltk\n",
    "nltk.download(\"stopwords\")\n",
    "stop_words = set(stopwords.words(\"english\"))"
   ]
  },
  {
   "cell_type": "code",
   "execution_count": 9,
   "id": "83776934",
   "metadata": {
    "ExecuteTime": {
     "end_time": "2021-06-21T15:51:51.141585Z",
     "start_time": "2021-06-21T15:51:51.132586Z"
    }
   },
   "outputs": [],
   "source": [
    "import string\n",
    "import nltk\n",
    "from nltk.stem.porter import PorterStemmer\n",
    "from nltk.stem import WordNetLemmatizer\n",
    "import re"
   ]
  },
  {
   "cell_type": "code",
   "execution_count": 12,
   "id": "7569d12d",
   "metadata": {
    "ExecuteTime": {
     "end_time": "2021-06-21T15:52:02.782107Z",
     "start_time": "2021-06-21T15:52:02.765101Z"
    }
   },
   "outputs": [],
   "source": [
    "def clean_1(text):\n",
    "    text = text.lower()\n",
    "    text = \" \".join([word for word in text.split() if word not in stop_words])\n",
    "    # encoding the text to ASCII format\n",
    "    text_encode = text.encode(encoding=\"ascii\", errors=\"ignore\")\n",
    "    # decoding the text\n",
    "    text_decode = text_encode.decode()\n",
    "    # cleaning the text to remove extra whitespace \n",
    "    text = \" \".join([word for word in text_decode.split()])\n",
    "    text = re.sub(\"@\\S+\", \"\", text)\n",
    "    text = re.sub(\"\\$\", \"\", text)\n",
    "    text = re.sub(\"https?:\\/\\/.*[\\r\\n]*\", \"\", text)\n",
    "    text = re.sub(\"#\", \"\", text)\n",
    "    punct = set(string.punctuation) \n",
    "    text = \"\".join([ch for ch in text if ch not in punct])\n",
    "    \n",
    "    return text\n"
   ]
  },
  {
   "cell_type": "code",
   "execution_count": 13,
   "id": "723b6e71",
   "metadata": {
    "ExecuteTime": {
     "end_time": "2021-06-21T15:52:03.508116Z",
     "start_time": "2021-06-21T15:52:03.493103Z"
    }
   },
   "outputs": [
    {
     "data": {
      "text/plain": [
       "'someone say feature engineering '"
      ]
     },
     "execution_count": 13,
     "metadata": {},
     "output_type": "execute_result"
    }
   ],
   "source": [
    "clean_1(\"Did someone just say “Feature Engineering”? https://buff.ly/3rRzL0s\")"
   ]
  },
  {
   "cell_type": "markdown",
   "id": "c26b19a1",
   "metadata": {},
   "source": [
    " "
   ]
  },
  {
   "cell_type": "markdown",
   "id": "2741e0d1",
   "metadata": {},
   "source": [
    " \n",
    " "
   ]
  },
  {
   "cell_type": "code",
   "execution_count": 14,
   "id": "58175893",
   "metadata": {
    "ExecuteTime": {
     "end_time": "2021-06-21T15:53:32.019234Z",
     "start_time": "2021-06-21T15:53:30.896216Z"
    }
   },
   "outputs": [],
   "source": [
    "data = pd.read_csv(\"final.csv\")"
   ]
  },
  {
   "cell_type": "code",
   "execution_count": 16,
   "id": "c33c8bfc",
   "metadata": {
    "ExecuteTime": {
     "end_time": "2021-06-21T15:54:17.532207Z",
     "start_time": "2021-06-21T15:54:17.525235Z"
    }
   },
   "outputs": [
    {
     "data": {
      "text/plain": [
       "['call sis im boy girl still faggot shut',\n",
       " '@user @user legit nilas retarded idk',\n",
       " 'said retard @url',\n",
       " \"america another 8 years obama's ideology via hillary we'd well way shithole country.\",\n",
       " '@user don... fucking made cry twat.']"
      ]
     },
     "execution_count": 16,
     "metadata": {},
     "output_type": "execute_result"
    }
   ],
   "source": [
    "text_list = data['0'].tolist()\n",
    "text_list[:5]"
   ]
  },
  {
   "cell_type": "code",
   "execution_count": 17,
   "id": "41556511",
   "metadata": {
    "ExecuteTime": {
     "end_time": "2021-06-21T15:54:24.751201Z",
     "start_time": "2021-06-21T15:54:24.733205Z"
    }
   },
   "outputs": [
    {
     "data": {
      "text/plain": [
       "46580"
      ]
     },
     "execution_count": 17,
     "metadata": {},
     "output_type": "execute_result"
    }
   ],
   "source": [
    "len(text_list)"
   ]
  },
  {
   "cell_type": "code",
   "execution_count": 18,
   "id": "885c913a",
   "metadata": {
    "ExecuteTime": {
     "end_time": "2021-06-21T15:55:25.097711Z",
     "start_time": "2021-06-21T15:55:24.148710Z"
    }
   },
   "outputs": [],
   "source": [
    "new_text = []\n",
    "for text in text_list:\n",
    "    new_text.append(clean_1(text))"
   ]
  },
  {
   "cell_type": "code",
   "execution_count": 20,
   "id": "513cef0c",
   "metadata": {
    "ExecuteTime": {
     "end_time": "2021-06-21T15:56:01.960711Z",
     "start_time": "2021-06-21T15:56:01.939711Z"
    }
   },
   "outputs": [],
   "source": [
    "new_data = pd.DataFrame({\"Text\":new_text})"
   ]
  },
  {
   "cell_type": "code",
   "execution_count": 22,
   "id": "7b591703",
   "metadata": {
    "ExecuteTime": {
     "end_time": "2021-06-21T15:56:18.731708Z",
     "start_time": "2021-06-21T15:56:18.556710Z"
    }
   },
   "outputs": [],
   "source": [
    "new_data.to_csv(\"clean.csv\")"
   ]
  }
 ],
 "metadata": {
  "kernelspec": {
   "display_name": "Python 3",
   "language": "python",
   "name": "python3"
  },
  "language_info": {
   "codemirror_mode": {
    "name": "ipython",
    "version": 3
   },
   "file_extension": ".py",
   "mimetype": "text/x-python",
   "name": "python",
   "nbconvert_exporter": "python",
   "pygments_lexer": "ipython3",
   "version": "3.7.0"
  }
 },
 "nbformat": 4,
 "nbformat_minor": 5
}
