{
 "cells": [
  {
   "cell_type": "code",
   "execution_count": 1,
   "id": "66fb394c",
   "metadata": {
    "ExecuteTime": {
     "end_time": "2021-07-16T02:28:55.669679Z",
     "start_time": "2021-07-16T02:28:52.127553Z"
    }
   },
   "outputs": [],
   "source": [
    "import pandas as pd\n",
    "import numpy as np"
   ]
  },
  {
   "cell_type": "code",
   "execution_count": 13,
   "id": "714a9b92",
   "metadata": {
    "ExecuteTime": {
     "end_time": "2021-07-16T02:32:20.484873Z",
     "start_time": "2021-07-16T02:32:20.409750Z"
    }
   },
   "outputs": [],
   "source": [
    "file = pd.read_csv(\"clean.csv\")"
   ]
  },
  {
   "cell_type": "code",
   "execution_count": 14,
   "id": "21f85ee7",
   "metadata": {
    "ExecuteTime": {
     "end_time": "2021-07-16T02:32:21.029759Z",
     "start_time": "2021-07-16T02:32:21.025746Z"
    }
   },
   "outputs": [],
   "source": [
    "bad_text = file['Text'].tolist()"
   ]
  },
  {
   "cell_type": "code",
   "execution_count": 18,
   "id": "5a38c95f",
   "metadata": {
    "ExecuteTime": {
     "end_time": "2021-07-16T02:35:02.436025Z",
     "start_time": "2021-07-16T02:35:02.418012Z"
    }
   },
   "outputs": [
    {
     "data": {
      "text/plain": [
       "46580"
      ]
     },
     "execution_count": 18,
     "metadata": {},
     "output_type": "execute_result"
    }
   ],
   "source": [
    "len(bad_text)"
   ]
  },
  {
   "cell_type": "code",
   "execution_count": 37,
   "id": "16257f02",
   "metadata": {
    "ExecuteTime": {
     "end_time": "2021-07-16T02:48:27.131576Z",
     "start_time": "2021-07-16T02:48:27.113576Z"
    }
   },
   "outputs": [],
   "source": [
    "good_text = final_text.split(\".\")"
   ]
  },
  {
   "cell_type": "code",
   "execution_count": 50,
   "id": "11305e94",
   "metadata": {
    "ExecuteTime": {
     "end_time": "2021-07-16T02:54:38.900884Z",
     "start_time": "2021-07-16T02:54:38.884842Z"
    }
   },
   "outputs": [],
   "source": [
    "word_bad=[]\n",
    "for x in range(len(bad_text)):\n",
    "    word_bad.append(\"bad\")"
   ]
  },
  {
   "cell_type": "code",
   "execution_count": 55,
   "id": "1b6a1b3f",
   "metadata": {
    "ExecuteTime": {
     "end_time": "2021-07-16T02:56:12.729238Z",
     "start_time": "2021-07-16T02:56:12.708149Z"
    }
   },
   "outputs": [],
   "source": [
    "data = pd.DataFrame(bad_text,columns=[\"text\"])"
   ]
  },
  {
   "cell_type": "code",
   "execution_count": 57,
   "id": "dcf84e95",
   "metadata": {
    "ExecuteTime": {
     "end_time": "2021-07-16T02:56:29.241159Z",
     "start_time": "2021-07-16T02:56:29.221165Z"
    }
   },
   "outputs": [],
   "source": [
    "data[\"class\"] = word_bad"
   ]
  },
  {
   "cell_type": "code",
   "execution_count": 58,
   "id": "5687b636",
   "metadata": {
    "ExecuteTime": {
     "end_time": "2021-07-16T02:56:31.446249Z",
     "start_time": "2021-07-16T02:56:31.429252Z"
    }
   },
   "outputs": [
    {
     "data": {
      "text/html": [
       "<div>\n",
       "<style scoped>\n",
       "    .dataframe tbody tr th:only-of-type {\n",
       "        vertical-align: middle;\n",
       "    }\n",
       "\n",
       "    .dataframe tbody tr th {\n",
       "        vertical-align: top;\n",
       "    }\n",
       "\n",
       "    .dataframe thead th {\n",
       "        text-align: right;\n",
       "    }\n",
       "</style>\n",
       "<table border=\"1\" class=\"dataframe\">\n",
       "  <thead>\n",
       "    <tr style=\"text-align: right;\">\n",
       "      <th></th>\n",
       "      <th>text</th>\n",
       "      <th>class</th>\n",
       "    </tr>\n",
       "  </thead>\n",
       "  <tbody>\n",
       "    <tr>\n",
       "      <th>0</th>\n",
       "      <td>call sis im boy girl still faggot shut</td>\n",
       "      <td>bad</td>\n",
       "    </tr>\n",
       "    <tr>\n",
       "      <th>1</th>\n",
       "      <td>legit nilas retarded idk</td>\n",
       "      <td>bad</td>\n",
       "    </tr>\n",
       "    <tr>\n",
       "      <th>2</th>\n",
       "      <td>said retard</td>\n",
       "      <td>bad</td>\n",
       "    </tr>\n",
       "    <tr>\n",
       "      <th>3</th>\n",
       "      <td>america another 8 years obamas ideology via hi...</td>\n",
       "      <td>bad</td>\n",
       "    </tr>\n",
       "    <tr>\n",
       "      <th>4</th>\n",
       "      <td>don fucking made cry twat</td>\n",
       "      <td>bad</td>\n",
       "    </tr>\n",
       "    <tr>\n",
       "      <th>...</th>\n",
       "      <td>...</td>\n",
       "      <td>...</td>\n",
       "    </tr>\n",
       "    <tr>\n",
       "      <th>46575</th>\n",
       "      <td>yous muthafin lie 8220   right tl trash 8230 n...</td>\n",
       "      <td>bad</td>\n",
       "    </tr>\n",
       "    <tr>\n",
       "      <th>46576</th>\n",
       "      <td>gone broke wrong heart baby drove redneck crazy</td>\n",
       "      <td>bad</td>\n",
       "    </tr>\n",
       "    <tr>\n",
       "      <th>46577</th>\n",
       "      <td>young buck wanna eat dat nigguh like aint fuck...</td>\n",
       "      <td>bad</td>\n",
       "    </tr>\n",
       "    <tr>\n",
       "      <th>46578</th>\n",
       "      <td>youu got wild bitches tellin lies</td>\n",
       "      <td>bad</td>\n",
       "    </tr>\n",
       "    <tr>\n",
       "      <th>46579</th>\n",
       "      <td>ruffled  ntac eileen dahlia  beautiful color c...</td>\n",
       "      <td>bad</td>\n",
       "    </tr>\n",
       "  </tbody>\n",
       "</table>\n",
       "<p>46580 rows × 2 columns</p>\n",
       "</div>"
      ],
      "text/plain": [
       "                                                    text class\n",
       "0                 call sis im boy girl still faggot shut   bad\n",
       "1                               legit nilas retarded idk   bad\n",
       "2                                           said retard    bad\n",
       "3      america another 8 years obamas ideology via hi...   bad\n",
       "4                              don fucking made cry twat   bad\n",
       "...                                                  ...   ...\n",
       "46575  yous muthafin lie 8220   right tl trash 8230 n...   bad\n",
       "46576    gone broke wrong heart baby drove redneck crazy   bad\n",
       "46577  young buck wanna eat dat nigguh like aint fuck...   bad\n",
       "46578                  youu got wild bitches tellin lies   bad\n",
       "46579  ruffled  ntac eileen dahlia  beautiful color c...   bad\n",
       "\n",
       "[46580 rows x 2 columns]"
      ]
     },
     "execution_count": 58,
     "metadata": {},
     "output_type": "execute_result"
    }
   ],
   "source": [
    "data"
   ]
  },
  {
   "cell_type": "code",
   "execution_count": 61,
   "id": "9afe3a0f",
   "metadata": {
    "ExecuteTime": {
     "end_time": "2021-07-16T02:57:40.320993Z",
     "start_time": "2021-07-16T02:57:40.307992Z"
    }
   },
   "outputs": [],
   "source": [
    "word_good=[]\n",
    "for x in range(len(good_text)):\n",
    "    word_good.append(\"good\")"
   ]
  },
  {
   "cell_type": "code",
   "execution_count": null,
   "id": "e23816a4",
   "metadata": {
    "ExecuteTime": {
     "end_time": "2021-07-16T02:58:53.119785Z",
     "start_time": "2021-07-16T02:58:53.100784Z"
    }
   },
   "outputs": [],
   "source": []
  },
  {
   "cell_type": "code",
   "execution_count": 70,
   "id": "d8ed1508",
   "metadata": {
    "ExecuteTime": {
     "end_time": "2021-07-16T02:58:59.570978Z",
     "start_time": "2021-07-16T02:58:59.564015Z"
    }
   },
   "outputs": [],
   "source": [
    "new_df = pd.DataFrame(good_text[0].tolist(),columns=[\"text\"])"
   ]
  },
  {
   "cell_type": "code",
   "execution_count": 71,
   "id": "f4c9269c",
   "metadata": {
    "ExecuteTime": {
     "end_time": "2021-07-16T02:59:01.068381Z",
     "start_time": "2021-07-16T02:59:01.060421Z"
    }
   },
   "outputs": [],
   "source": [
    "new_df[\"class\"]=word_good"
   ]
  },
  {
   "cell_type": "code",
   "execution_count": 72,
   "id": "cadda945",
   "metadata": {
    "ExecuteTime": {
     "end_time": "2021-07-16T02:59:01.580442Z",
     "start_time": "2021-07-16T02:59:01.564424Z"
    }
   },
   "outputs": [
    {
     "data": {
      "text/html": [
       "<div>\n",
       "<style scoped>\n",
       "    .dataframe tbody tr th:only-of-type {\n",
       "        vertical-align: middle;\n",
       "    }\n",
       "\n",
       "    .dataframe tbody tr th {\n",
       "        vertical-align: top;\n",
       "    }\n",
       "\n",
       "    .dataframe thead th {\n",
       "        text-align: right;\n",
       "    }\n",
       "</style>\n",
       "<table border=\"1\" class=\"dataframe\">\n",
       "  <thead>\n",
       "    <tr style=\"text-align: right;\">\n",
       "      <th></th>\n",
       "      <th>text</th>\n",
       "      <th>class</th>\n",
       "    </tr>\n",
       "  </thead>\n",
       "  <tbody>\n",
       "    <tr>\n",
       "      <th>0</th>\n",
       "      <td>Mason's decision to leave the team as an undra...</td>\n",
       "      <td>good</td>\n",
       "    </tr>\n",
       "    <tr>\n",
       "      <th>1</th>\n",
       "      <td>He had been eyeing the Rams, particularly his...</td>\n",
       "      <td>good</td>\n",
       "    </tr>\n",
       "    <tr>\n",
       "      <th>2</th>\n",
       "      <td>Mason was at a very young age when the 49ers ...</td>\n",
       "      <td>good</td>\n",
       "    </tr>\n",
       "    <tr>\n",
       "      <th>3</th>\n",
       "      <td>I've been thinking this for the last 2</td>\n",
       "      <td>good</td>\n",
       "    </tr>\n",
       "    <tr>\n",
       "      <th>4</th>\n",
       "      <td>20 years</td>\n",
       "      <td>good</td>\n",
       "    </tr>\n",
       "    <tr>\n",
       "      <th>...</th>\n",
       "      <td>...</td>\n",
       "      <td>...</td>\n",
       "    </tr>\n",
       "    <tr>\n",
       "      <th>999</th>\n",
       "      <td>Man beast said may creepeth that fifth give a...</td>\n",
       "      <td>good</td>\n",
       "    </tr>\n",
       "    <tr>\n",
       "      <th>1000</th>\n",
       "      <td>Can't may divide isn't appear Upon spirit lan...</td>\n",
       "      <td>good</td>\n",
       "    </tr>\n",
       "    <tr>\n",
       "      <th>1001</th>\n",
       "      <td>Whales rule second they're won't good were</td>\n",
       "      <td>good</td>\n",
       "    </tr>\n",
       "    <tr>\n",
       "      <th>1002</th>\n",
       "      <td>Isn't shall</td>\n",
       "      <td>good</td>\n",
       "    </tr>\n",
       "    <tr>\n",
       "      <th>1003</th>\n",
       "      <td></td>\n",
       "      <td>good</td>\n",
       "    </tr>\n",
       "  </tbody>\n",
       "</table>\n",
       "<p>1004 rows × 2 columns</p>\n",
       "</div>"
      ],
      "text/plain": [
       "                                                   text class\n",
       "0     Mason's decision to leave the team as an undra...  good\n",
       "1      He had been eyeing the Rams, particularly his...  good\n",
       "2      Mason was at a very young age when the 49ers ...  good\n",
       "3                I've been thinking this for the last 2  good\n",
       "4                                              20 years  good\n",
       "...                                                 ...   ...\n",
       "999    Man beast said may creepeth that fifth give a...  good\n",
       "1000   Can't may divide isn't appear Upon spirit lan...  good\n",
       "1001         Whales rule second they're won't good were  good\n",
       "1002                                        Isn't shall  good\n",
       "1003                                                     good\n",
       "\n",
       "[1004 rows x 2 columns]"
      ]
     },
     "execution_count": 72,
     "metadata": {},
     "output_type": "execute_result"
    }
   ],
   "source": [
    "new_df"
   ]
  },
  {
   "cell_type": "code",
   "execution_count": 73,
   "id": "acd6f6d9",
   "metadata": {
    "ExecuteTime": {
     "end_time": "2021-07-16T02:59:21.683957Z",
     "start_time": "2021-07-16T02:59:21.659965Z"
    }
   },
   "outputs": [],
   "source": [
    "new_data = data.append(new_df,ignore_index=True)"
   ]
  },
  {
   "cell_type": "code",
   "execution_count": 74,
   "id": "f6cb14ca",
   "metadata": {
    "ExecuteTime": {
     "end_time": "2021-07-16T02:59:23.935459Z",
     "start_time": "2021-07-16T02:59:23.916484Z"
    }
   },
   "outputs": [
    {
     "data": {
      "text/html": [
       "<div>\n",
       "<style scoped>\n",
       "    .dataframe tbody tr th:only-of-type {\n",
       "        vertical-align: middle;\n",
       "    }\n",
       "\n",
       "    .dataframe tbody tr th {\n",
       "        vertical-align: top;\n",
       "    }\n",
       "\n",
       "    .dataframe thead th {\n",
       "        text-align: right;\n",
       "    }\n",
       "</style>\n",
       "<table border=\"1\" class=\"dataframe\">\n",
       "  <thead>\n",
       "    <tr style=\"text-align: right;\">\n",
       "      <th></th>\n",
       "      <th>text</th>\n",
       "      <th>class</th>\n",
       "    </tr>\n",
       "  </thead>\n",
       "  <tbody>\n",
       "    <tr>\n",
       "      <th>0</th>\n",
       "      <td>call sis im boy girl still faggot shut</td>\n",
       "      <td>bad</td>\n",
       "    </tr>\n",
       "    <tr>\n",
       "      <th>1</th>\n",
       "      <td>legit nilas retarded idk</td>\n",
       "      <td>bad</td>\n",
       "    </tr>\n",
       "    <tr>\n",
       "      <th>2</th>\n",
       "      <td>said retard</td>\n",
       "      <td>bad</td>\n",
       "    </tr>\n",
       "    <tr>\n",
       "      <th>3</th>\n",
       "      <td>america another 8 years obamas ideology via hi...</td>\n",
       "      <td>bad</td>\n",
       "    </tr>\n",
       "    <tr>\n",
       "      <th>4</th>\n",
       "      <td>don fucking made cry twat</td>\n",
       "      <td>bad</td>\n",
       "    </tr>\n",
       "    <tr>\n",
       "      <th>...</th>\n",
       "      <td>...</td>\n",
       "      <td>...</td>\n",
       "    </tr>\n",
       "    <tr>\n",
       "      <th>47579</th>\n",
       "      <td>Man beast said may creepeth that fifth give a...</td>\n",
       "      <td>good</td>\n",
       "    </tr>\n",
       "    <tr>\n",
       "      <th>47580</th>\n",
       "      <td>Can't may divide isn't appear Upon spirit lan...</td>\n",
       "      <td>good</td>\n",
       "    </tr>\n",
       "    <tr>\n",
       "      <th>47581</th>\n",
       "      <td>Whales rule second they're won't good were</td>\n",
       "      <td>good</td>\n",
       "    </tr>\n",
       "    <tr>\n",
       "      <th>47582</th>\n",
       "      <td>Isn't shall</td>\n",
       "      <td>good</td>\n",
       "    </tr>\n",
       "    <tr>\n",
       "      <th>47583</th>\n",
       "      <td></td>\n",
       "      <td>good</td>\n",
       "    </tr>\n",
       "  </tbody>\n",
       "</table>\n",
       "<p>47584 rows × 2 columns</p>\n",
       "</div>"
      ],
      "text/plain": [
       "                                                    text class\n",
       "0                 call sis im boy girl still faggot shut   bad\n",
       "1                               legit nilas retarded idk   bad\n",
       "2                                           said retard    bad\n",
       "3      america another 8 years obamas ideology via hi...   bad\n",
       "4                              don fucking made cry twat   bad\n",
       "...                                                  ...   ...\n",
       "47579   Man beast said may creepeth that fifth give a...  good\n",
       "47580   Can't may divide isn't appear Upon spirit lan...  good\n",
       "47581         Whales rule second they're won't good were  good\n",
       "47582                                        Isn't shall  good\n",
       "47583                                                     good\n",
       "\n",
       "[47584 rows x 2 columns]"
      ]
     },
     "execution_count": 74,
     "metadata": {},
     "output_type": "execute_result"
    }
   ],
   "source": [
    "new_data"
   ]
  },
  {
   "cell_type": "code",
   "execution_count": 75,
   "id": "cd6a4b06",
   "metadata": {
    "ExecuteTime": {
     "end_time": "2021-07-16T02:59:41.704275Z",
     "start_time": "2021-07-16T02:59:41.157004Z"
    }
   },
   "outputs": [],
   "source": [
    "new_data.to_csv(\"finaldata.csv\")"
   ]
  }
 ],
 "metadata": {
  "kernelspec": {
   "display_name": "Python 3",
   "language": "python",
   "name": "python3"
  },
  "language_info": {
   "codemirror_mode": {
    "name": "ipython",
    "version": 3
   },
   "file_extension": ".py",
   "mimetype": "text/x-python",
   "name": "python",
   "nbconvert_exporter": "python",
   "pygments_lexer": "ipython3",
   "version": "3.7.0"
  }
 },
 "nbformat": 4,
 "nbformat_minor": 5
}
