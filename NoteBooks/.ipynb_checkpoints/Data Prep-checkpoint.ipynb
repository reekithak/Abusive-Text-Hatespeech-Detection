{
 "cells": [
  {
   "cell_type": "code",
   "execution_count": 1,
   "id": "5cc7eb4a",
   "metadata": {
    "ExecuteTime": {
     "end_time": "2021-06-21T15:19:54.676558Z",
     "start_time": "2021-06-21T15:19:52.287038Z"
    }
   },
   "outputs": [],
   "source": [
    "import pandas as pd\n",
    "import numpy as np"
   ]
  },
  {
   "cell_type": "markdown",
   "id": "b9522653",
   "metadata": {},
   "source": [
    "**Importing Data**"
   ]
  },
  {
   "cell_type": "code",
   "execution_count": 2,
   "id": "47ad655b",
   "metadata": {
    "ExecuteTime": {
     "end_time": "2021-06-21T15:19:55.041637Z",
     "start_time": "2021-06-21T15:19:54.678561Z"
    }
   },
   "outputs": [],
   "source": [
    "set_a = pd.read_csv(r\"Data\\a.csv\")\n",
    "set_b = pd.read_csv(r\"Data\\b.csv\")\n",
    "set_c = pd.read_csv(r\"Data\\c.csv\")\n",
    "set_d = pd.read_csv(r\"Data\\d.csv\")"
   ]
  },
  {
   "cell_type": "markdown",
   "id": "f6304735",
   "metadata": {
    "ExecuteTime": {
     "end_time": "2021-06-20T14:12:15.869341Z",
     "start_time": "2021-06-20T14:12:15.857243Z"
    }
   },
   "source": [
    "**PreProcessing**"
   ]
  },
  {
   "cell_type": "code",
   "execution_count": 3,
   "id": "fd3b09ad",
   "metadata": {
    "ExecuteTime": {
     "end_time": "2021-06-21T15:19:55.072870Z",
     "start_time": "2021-06-21T15:19:55.043635Z"
    }
   },
   "outputs": [],
   "source": [
    "set_a  = set_a[['tweet','sentiment','group']]\n",
    "groups_a = set_a['group'].unique()\n",
    "set_a = set_a[set_a['sentiment']!='normal']\n",
    "a_list = set_a['tweet'].tolist()"
   ]
  },
  {
   "cell_type": "code",
   "execution_count": 4,
   "id": "ba72f03d",
   "metadata": {
    "ExecuteTime": {
     "end_time": "2021-06-21T15:19:55.104868Z",
     "start_time": "2021-06-21T15:19:55.075869Z"
    }
   },
   "outputs": [
    {
     "data": {
      "text/html": [
       "<div>\n",
       "<style scoped>\n",
       "    .dataframe tbody tr th:only-of-type {\n",
       "        vertical-align: middle;\n",
       "    }\n",
       "\n",
       "    .dataframe tbody tr th {\n",
       "        vertical-align: top;\n",
       "    }\n",
       "\n",
       "    .dataframe thead th {\n",
       "        text-align: right;\n",
       "    }\n",
       "</style>\n",
       "<table border=\"1\" class=\"dataframe\">\n",
       "  <thead>\n",
       "    <tr style=\"text-align: right;\">\n",
       "      <th></th>\n",
       "      <th>tweet</th>\n",
       "      <th>sentiment</th>\n",
       "      <th>group</th>\n",
       "    </tr>\n",
       "  </thead>\n",
       "  <tbody>\n",
       "    <tr>\n",
       "      <th>0</th>\n",
       "      <td>call sis im boy girl still faggot shut</td>\n",
       "      <td>offensive</td>\n",
       "      <td>gay</td>\n",
       "    </tr>\n",
       "    <tr>\n",
       "      <th>1</th>\n",
       "      <td>@user @user legit nilas retarded idk</td>\n",
       "      <td>offensive_disrespectful</td>\n",
       "      <td>special_needs</td>\n",
       "    </tr>\n",
       "    <tr>\n",
       "      <th>2</th>\n",
       "      <td>said retard @url</td>\n",
       "      <td>fearful_abusive_offensive_hateful</td>\n",
       "      <td>special_needs</td>\n",
       "    </tr>\n",
       "    <tr>\n",
       "      <th>3</th>\n",
       "      <td>america another 8 years obama's ideology via h...</td>\n",
       "      <td>fearful_abusive_hateful_disrespectful_normal</td>\n",
       "      <td>other</td>\n",
       "    </tr>\n",
       "    <tr>\n",
       "      <th>4</th>\n",
       "      <td>@user don... fucking made cry twat.</td>\n",
       "      <td>offensive</td>\n",
       "      <td>women</td>\n",
       "    </tr>\n",
       "  </tbody>\n",
       "</table>\n",
       "</div>"
      ],
      "text/plain": [
       "                                               tweet  \\\n",
       "0             call sis im boy girl still faggot shut   \n",
       "1               @user @user legit nilas retarded idk   \n",
       "2                                   said retard @url   \n",
       "3  america another 8 years obama's ideology via h...   \n",
       "4                @user don... fucking made cry twat.   \n",
       "\n",
       "                                      sentiment          group  \n",
       "0                                     offensive            gay  \n",
       "1                       offensive_disrespectful  special_needs  \n",
       "2             fearful_abusive_offensive_hateful  special_needs  \n",
       "3  fearful_abusive_hateful_disrespectful_normal          other  \n",
       "4                                     offensive          women  "
      ]
     },
     "execution_count": 4,
     "metadata": {},
     "output_type": "execute_result"
    }
   ],
   "source": [
    "set_a.head()"
   ]
  },
  {
   "cell_type": "code",
   "execution_count": 5,
   "id": "0e238d94",
   "metadata": {
    "ExecuteTime": {
     "end_time": "2021-06-21T15:19:55.120868Z",
     "start_time": "2021-06-21T15:19:55.106872Z"
    }
   },
   "outputs": [
    {
     "data": {
      "text/plain": [
       "['call sis im boy girl still faggot shut',\n",
       " '@user @user legit nilas retarded idk',\n",
       " 'said retard @url',\n",
       " \"america another 8 years obama's ideology via hillary we'd well way shithole country.\",\n",
       " '@user don... fucking made cry twat.']"
      ]
     },
     "execution_count": 5,
     "metadata": {},
     "output_type": "execute_result"
    }
   ],
   "source": [
    "a_list[:5]"
   ]
  },
  {
   "cell_type": "markdown",
   "id": "034d7023",
   "metadata": {},
   "source": [
    "  "
   ]
  },
  {
   "cell_type": "markdown",
   "id": "b5924053",
   "metadata": {},
   "source": [
    " "
   ]
  },
  {
   "cell_type": "markdown",
   "id": "d7c50128",
   "metadata": {},
   "source": [
    "SET B\n"
   ]
  },
  {
   "cell_type": "code",
   "execution_count": 6,
   "id": "75ced7a0",
   "metadata": {
    "ExecuteTime": {
     "end_time": "2021-06-21T15:19:55.136877Z",
     "start_time": "2021-06-21T15:19:55.122867Z"
    }
   },
   "outputs": [],
   "source": [
    "set_b  = set_b[['tweet','sentiment','group']]\n",
    "groups_b = set_b['group'].unique()\n",
    "set_b = set_b[set_b['sentiment']!='normal']\n",
    "b_list = set_b['tweet'].tolist()"
   ]
  },
  {
   "cell_type": "code",
   "execution_count": 7,
   "id": "4775c279",
   "metadata": {
    "ExecuteTime": {
     "end_time": "2021-06-21T15:19:55.168848Z",
     "start_time": "2021-06-21T15:19:55.141874Z"
    }
   },
   "outputs": [
    {
     "data": {
      "text/html": [
       "<div>\n",
       "<style scoped>\n",
       "    .dataframe tbody tr th:only-of-type {\n",
       "        vertical-align: middle;\n",
       "    }\n",
       "\n",
       "    .dataframe tbody tr th {\n",
       "        vertical-align: top;\n",
       "    }\n",
       "\n",
       "    .dataframe thead th {\n",
       "        text-align: right;\n",
       "    }\n",
       "</style>\n",
       "<table border=\"1\" class=\"dataframe\">\n",
       "  <thead>\n",
       "    <tr style=\"text-align: right;\">\n",
       "      <th></th>\n",
       "      <th>tweet</th>\n",
       "      <th>sentiment</th>\n",
       "      <th>group</th>\n",
       "    </tr>\n",
       "  </thead>\n",
       "  <tbody>\n",
       "    <tr>\n",
       "      <th>0</th>\n",
       "      <td>If America had another 8 years of Obama's ideo...</td>\n",
       "      <td>fearful_abusive_hateful_disrespectful_normal</td>\n",
       "      <td>other</td>\n",
       "    </tr>\n",
       "    <tr>\n",
       "      <th>1</th>\n",
       "      <td>Most Canadians have never met seen or associat...</td>\n",
       "      <td>offensive</td>\n",
       "      <td>special_needs</td>\n",
       "    </tr>\n",
       "    <tr>\n",
       "      <th>2</th>\n",
       "      <td>Hahaha grow up faggot @URL</td>\n",
       "      <td>offensive</td>\n",
       "      <td>women</td>\n",
       "    </tr>\n",
       "    <tr>\n",
       "      <th>3</th>\n",
       "      <td>@user queue is fucking retarded it makes every...</td>\n",
       "      <td>offensive_hateful</td>\n",
       "      <td>special_needs</td>\n",
       "    </tr>\n",
       "    <tr>\n",
       "      <th>4</th>\n",
       "      <td>@user Que ce ne soit pas des Burundais refugie...</td>\n",
       "      <td>hateful_normal</td>\n",
       "      <td>other</td>\n",
       "    </tr>\n",
       "  </tbody>\n",
       "</table>\n",
       "</div>"
      ],
      "text/plain": [
       "                                               tweet  \\\n",
       "0  If America had another 8 years of Obama's ideo...   \n",
       "1  Most Canadians have never met seen or associat...   \n",
       "2                         Hahaha grow up faggot @URL   \n",
       "3  @user queue is fucking retarded it makes every...   \n",
       "4  @user Que ce ne soit pas des Burundais refugie...   \n",
       "\n",
       "                                      sentiment          group  \n",
       "0  fearful_abusive_hateful_disrespectful_normal          other  \n",
       "1                                     offensive  special_needs  \n",
       "2                                     offensive          women  \n",
       "3                             offensive_hateful  special_needs  \n",
       "4                                hateful_normal          other  "
      ]
     },
     "execution_count": 7,
     "metadata": {},
     "output_type": "execute_result"
    }
   ],
   "source": [
    "set_b.head()"
   ]
  },
  {
   "cell_type": "code",
   "execution_count": 8,
   "id": "d43c488d",
   "metadata": {
    "ExecuteTime": {
     "end_time": "2021-06-21T15:19:55.184845Z",
     "start_time": "2021-06-21T15:19:55.172846Z"
    }
   },
   "outputs": [
    {
     "data": {
      "text/plain": [
       "[\"If America had another 8 years of Obama's ideology via Hillary we'd be well on our way to being a shithole country.\",\n",
       " 'Most Canadians have never met seen or associated with a person who are currently labelled as \\\\retarded\\\\ . I plan t\\\\u2026 @URL',\n",
       " 'Hahaha grow up faggot @URL',\n",
       " \"@user queue is fucking retarded it makes everyone feel like they don't even have a chance make it fcfs again for fucksake\",\n",
       " '@user Que ce ne soit pas des Burundais refugies Alerte car leur corps sont visibles a loeil nu']"
      ]
     },
     "execution_count": 8,
     "metadata": {},
     "output_type": "execute_result"
    }
   ],
   "source": [
    "b_list[:5]"
   ]
  },
  {
   "cell_type": "markdown",
   "id": "f4eeae26",
   "metadata": {},
   "source": [
    " "
   ]
  },
  {
   "cell_type": "markdown",
   "id": "58a17f31",
   "metadata": {},
   "source": [
    " "
   ]
  },
  {
   "cell_type": "markdown",
   "id": "af229c55",
   "metadata": {},
   "source": [
    "SET C "
   ]
  },
  {
   "cell_type": "code",
   "execution_count": 9,
   "id": "b594d80c",
   "metadata": {
    "ExecuteTime": {
     "end_time": "2021-06-21T15:19:55.199841Z",
     "start_time": "2021-06-21T15:19:55.188843Z"
    }
   },
   "outputs": [
    {
     "data": {
      "text/plain": [
       "[\"1. i joined gab to remind myself how retarded jew haters are. You wouldn't be typing on your abacus without them you retard.\\n\",\n",
       " '1. This is what the left is really scared of.    https://redd.it/9rfkts\\n2. \\tThat literally looks like a monkey. Why are we supposed to pretend it’s a person bc it’s wearing a red hat? \\n3. \\t\\tDumb Cunt\\n',\n",
       " '1. It makes you an asshole.\\n2. \\tGive it to a  soldier who has defend it , then try to burn it . Show me what a badass you really are.  The flag is helpless to stop you or fight back . Completely unnecessary act , its proves nothing and accomplishes nothing. It only shows your a ignorant weak faggot  . Like kicking a puppy ,,,  it shows how weak and worthless you are \\n',\n",
       " \"1. So they manage to provide a whole lot of data, except a critical little nugget.   Gay men are well over half the patients who present at STI clinics, and are probably the source of the emerging antibiotic-resistant pathogens.   https://www.dailymail.co.uk/health/article-6315871/One-young-person-England-told-STI-FOUR-MINUTES.html\\n2. \\tyup. i cant smoke in a bar because it's harmful to some faggot that's getting drunk, doing drugs & having an STD potluck w/ the boys later...... seems legit. \\n\",\n",
       " '1. Hi there, i,m Keith, i hope you are doing well, i would be very honored to get to know you if you would be interested? @PugLife\\n2. \\tFuck off\\n3. \\t\\twow, what a rude cunt \\n']"
      ]
     },
     "execution_count": 9,
     "metadata": {},
     "output_type": "execute_result"
    }
   ],
   "source": [
    "c_list = set_c['text'].tolist()\n",
    "c_list[:5]"
   ]
  },
  {
   "cell_type": "markdown",
   "id": "069f1b88",
   "metadata": {},
   "source": [
    " "
   ]
  },
  {
   "cell_type": "markdown",
   "id": "dca54a17",
   "metadata": {},
   "source": [
    " "
   ]
  },
  {
   "cell_type": "markdown",
   "id": "009c5bda",
   "metadata": {},
   "source": [
    "SET D "
   ]
  },
  {
   "cell_type": "code",
   "execution_count": 10,
   "id": "b88473e2",
   "metadata": {
    "ExecuteTime": {
     "end_time": "2021-06-21T15:19:55.215841Z",
     "start_time": "2021-06-21T15:19:55.201849Z"
    }
   },
   "outputs": [
    {
     "data": {
      "text/plain": [
       "[\"!!! RT @mayasolovely: As a woman you shouldn't complain about cleaning up your house. &amp; as a man you should always take the trash out...\",\n",
       " '!!!!! RT @mleew17: boy dats cold...tyga dwn bad for cuffin dat hoe in the 1st place!!',\n",
       " '!!!!!!! RT @UrKindOfBrand Dawg!!!! RT @80sbaby4life: You ever fuck a bitch and she start to cry? You be confused as shit',\n",
       " '!!!!!!!!! RT @C_G_Anderson: @viva_based she look like a tranny',\n",
       " '!!!!!!!!!!!!! RT @ShenikaRoberts: The shit you hear about me might be true or it might be faker than the bitch who told it to ya &#57361;']"
      ]
     },
     "execution_count": 10,
     "metadata": {},
     "output_type": "execute_result"
    }
   ],
   "source": [
    "d_list = set_d['tweet'].tolist()\n",
    "d_list[:5]"
   ]
  },
  {
   "cell_type": "code",
   "execution_count": 11,
   "id": "04c2f52c",
   "metadata": {
    "ExecuteTime": {
     "end_time": "2021-06-21T15:19:55.230843Z",
     "start_time": "2021-06-21T15:19:55.220867Z"
    }
   },
   "outputs": [],
   "source": [
    "final_list = a_list+b_list+c_list+d_list"
   ]
  },
  {
   "cell_type": "code",
   "execution_count": 12,
   "id": "88e3ab0a",
   "metadata": {
    "ExecuteTime": {
     "end_time": "2021-06-21T15:19:55.261840Z",
     "start_time": "2021-06-21T15:19:55.234845Z"
    }
   },
   "outputs": [],
   "source": [
    "final_df = pd.DataFrame(final_list)"
   ]
  },
  {
   "cell_type": "code",
   "execution_count": 13,
   "id": "3b949d4f",
   "metadata": {
    "ExecuteTime": {
     "end_time": "2021-06-21T15:19:55.277843Z",
     "start_time": "2021-06-21T15:19:55.262842Z"
    }
   },
   "outputs": [
    {
     "data": {
      "text/html": [
       "<div>\n",
       "<style scoped>\n",
       "    .dataframe tbody tr th:only-of-type {\n",
       "        vertical-align: middle;\n",
       "    }\n",
       "\n",
       "    .dataframe tbody tr th {\n",
       "        vertical-align: top;\n",
       "    }\n",
       "\n",
       "    .dataframe thead th {\n",
       "        text-align: right;\n",
       "    }\n",
       "</style>\n",
       "<table border=\"1\" class=\"dataframe\">\n",
       "  <thead>\n",
       "    <tr style=\"text-align: right;\">\n",
       "      <th></th>\n",
       "      <th>0</th>\n",
       "    </tr>\n",
       "  </thead>\n",
       "  <tbody>\n",
       "    <tr>\n",
       "      <th>0</th>\n",
       "      <td>call sis im boy girl still faggot shut</td>\n",
       "    </tr>\n",
       "    <tr>\n",
       "      <th>1</th>\n",
       "      <td>@user @user legit nilas retarded idk</td>\n",
       "    </tr>\n",
       "    <tr>\n",
       "      <th>2</th>\n",
       "      <td>said retard @url</td>\n",
       "    </tr>\n",
       "    <tr>\n",
       "      <th>3</th>\n",
       "      <td>america another 8 years obama's ideology via h...</td>\n",
       "    </tr>\n",
       "    <tr>\n",
       "      <th>4</th>\n",
       "      <td>@user don... fucking made cry twat.</td>\n",
       "    </tr>\n",
       "  </tbody>\n",
       "</table>\n",
       "</div>"
      ],
      "text/plain": [
       "                                                   0\n",
       "0             call sis im boy girl still faggot shut\n",
       "1               @user @user legit nilas retarded idk\n",
       "2                                   said retard @url\n",
       "3  america another 8 years obama's ideology via h...\n",
       "4                @user don... fucking made cry twat."
      ]
     },
     "execution_count": 13,
     "metadata": {},
     "output_type": "execute_result"
    }
   ],
   "source": [
    "final_df.head()"
   ]
  },
  {
   "cell_type": "markdown",
   "id": "34da822d",
   "metadata": {},
   "source": [
    " "
   ]
  },
  {
   "cell_type": "markdown",
   "id": "68ab774f",
   "metadata": {},
   "source": [
    " "
   ]
  },
  {
   "cell_type": "code",
   "execution_count": 14,
   "id": "008eb2ff",
   "metadata": {
    "ExecuteTime": {
     "end_time": "2021-06-21T15:20:19.496968Z",
     "start_time": "2021-06-21T15:20:19.204960Z"
    }
   },
   "outputs": [],
   "source": [
    "final_df.to_csv(\"final.csv\")"
   ]
  }
 ],
 "metadata": {
  "kernelspec": {
   "display_name": "Python 3",
   "language": "python",
   "name": "python3"
  },
  "language_info": {
   "codemirror_mode": {
    "name": "ipython",
    "version": 3
   },
   "file_extension": ".py",
   "mimetype": "text/x-python",
   "name": "python",
   "nbconvert_exporter": "python",
   "pygments_lexer": "ipython3",
   "version": "3.7.0"
  }
 },
 "nbformat": 4,
 "nbformat_minor": 5
}
