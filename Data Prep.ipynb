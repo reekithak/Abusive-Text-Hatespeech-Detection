{
 "cells": [
  {
   "cell_type": "code",
   "execution_count": 1,
   "id": "2d23a1b7",
   "metadata": {
    "ExecuteTime": {
     "end_time": "2021-06-20T14:07:04.234890Z",
     "start_time": "2021-06-20T14:06:58.927136Z"
    }
   },
   "outputs": [],
   "source": [
    "import pandas as pd\n",
    "import numpy as np"
   ]
  },
  {
   "cell_type": "markdown",
   "id": "8bb02f21",
   "metadata": {},
   "source": [
    "**Importing Data**"
   ]
  },
  {
   "cell_type": "code",
   "execution_count": 39,
   "id": "01fbb236",
   "metadata": {
    "ExecuteTime": {
     "end_time": "2021-06-20T14:21:32.309128Z",
     "start_time": "2021-06-20T14:21:32.143965Z"
    }
   },
   "outputs": [],
   "source": [
    "set_a = pd.read_csv(r\"Data\\a.csv\")\n",
    "set_b = pd.read_csv(r\"Data\\b.csv\")\n",
    "set_c = pd.read_csv(r\"Data\\c.csv\")\n",
    "set_d = pd.read_csv(r\"Data\\d.csv\")"
   ]
  },
  {
   "cell_type": "markdown",
   "id": "8b79f6cc",
   "metadata": {
    "ExecuteTime": {
     "end_time": "2021-06-20T14:12:15.869341Z",
     "start_time": "2021-06-20T14:12:15.857243Z"
    }
   },
   "source": [
    "**PreProcessing**"
   ]
  },
  {
   "cell_type": "code",
   "execution_count": 40,
   "id": "0c4a01f2",
   "metadata": {
    "ExecuteTime": {
     "end_time": "2021-06-20T14:21:32.916514Z",
     "start_time": "2021-06-20T14:21:32.903520Z"
    }
   },
   "outputs": [],
   "source": [
    "set_a  = set_a[['tweet','sentiment','group']]\n",
    "groups_a = set_a['group'].unique()\n",
    "set_a = set_a[set_a['sentiment']!='normal']\n",
    "a_list = set_a['tweet'].tolist()"
   ]
  },
  {
   "cell_type": "code",
   "execution_count": 41,
   "id": "0de8b2a7",
   "metadata": {
    "ExecuteTime": {
     "end_time": "2021-06-20T14:21:33.336265Z",
     "start_time": "2021-06-20T14:21:33.313273Z"
    }
   },
   "outputs": [
    {
     "data": {
      "text/html": [
       "<div>\n",
       "<style scoped>\n",
       "    .dataframe tbody tr th:only-of-type {\n",
       "        vertical-align: middle;\n",
       "    }\n",
       "\n",
       "    .dataframe tbody tr th {\n",
       "        vertical-align: top;\n",
       "    }\n",
       "\n",
       "    .dataframe thead th {\n",
       "        text-align: right;\n",
       "    }\n",
       "</style>\n",
       "<table border=\"1\" class=\"dataframe\">\n",
       "  <thead>\n",
       "    <tr style=\"text-align: right;\">\n",
       "      <th></th>\n",
       "      <th>tweet</th>\n",
       "      <th>sentiment</th>\n",
       "      <th>group</th>\n",
       "    </tr>\n",
       "  </thead>\n",
       "  <tbody>\n",
       "    <tr>\n",
       "      <th>0</th>\n",
       "      <td>call sis im boy girl still faggot shut</td>\n",
       "      <td>offensive</td>\n",
       "      <td>gay</td>\n",
       "    </tr>\n",
       "    <tr>\n",
       "      <th>1</th>\n",
       "      <td>@user @user legit nilas retarded idk</td>\n",
       "      <td>offensive_disrespectful</td>\n",
       "      <td>special_needs</td>\n",
       "    </tr>\n",
       "    <tr>\n",
       "      <th>2</th>\n",
       "      <td>said retard @url</td>\n",
       "      <td>fearful_abusive_offensive_hateful</td>\n",
       "      <td>special_needs</td>\n",
       "    </tr>\n",
       "    <tr>\n",
       "      <th>3</th>\n",
       "      <td>america another 8 years obama's ideology via h...</td>\n",
       "      <td>fearful_abusive_hateful_disrespectful_normal</td>\n",
       "      <td>other</td>\n",
       "    </tr>\n",
       "    <tr>\n",
       "      <th>4</th>\n",
       "      <td>@user don... fucking made cry twat.</td>\n",
       "      <td>offensive</td>\n",
       "      <td>women</td>\n",
       "    </tr>\n",
       "  </tbody>\n",
       "</table>\n",
       "</div>"
      ],
      "text/plain": [
       "                                               tweet  \\\n",
       "0             call sis im boy girl still faggot shut   \n",
       "1               @user @user legit nilas retarded idk   \n",
       "2                                   said retard @url   \n",
       "3  america another 8 years obama's ideology via h...   \n",
       "4                @user don... fucking made cry twat.   \n",
       "\n",
       "                                      sentiment          group  \n",
       "0                                     offensive            gay  \n",
       "1                       offensive_disrespectful  special_needs  \n",
       "2             fearful_abusive_offensive_hateful  special_needs  \n",
       "3  fearful_abusive_hateful_disrespectful_normal          other  \n",
       "4                                     offensive          women  "
      ]
     },
     "execution_count": 41,
     "metadata": {},
     "output_type": "execute_result"
    }
   ],
   "source": [
    "set_a.head()"
   ]
  },
  {
   "cell_type": "code",
   "execution_count": 42,
   "id": "a950bc94",
   "metadata": {
    "ExecuteTime": {
     "end_time": "2021-06-20T14:21:33.785750Z",
     "start_time": "2021-06-20T14:21:33.775781Z"
    }
   },
   "outputs": [
    {
     "data": {
      "text/plain": [
       "['call sis im boy girl still faggot shut',\n",
       " '@user @user legit nilas retarded idk',\n",
       " 'said retard @url',\n",
       " \"america another 8 years obama's ideology via hillary we'd well way shithole country.\",\n",
       " '@user don... fucking made cry twat.']"
      ]
     },
     "execution_count": 42,
     "metadata": {},
     "output_type": "execute_result"
    }
   ],
   "source": [
    "a_list[:5]"
   ]
  },
  {
   "cell_type": "markdown",
   "id": "20d2dfe4",
   "metadata": {},
   "source": [
    "  "
   ]
  },
  {
   "cell_type": "markdown",
   "id": "a3cfb1e9",
   "metadata": {},
   "source": [
    " "
   ]
  },
  {
   "cell_type": "markdown",
   "id": "64499c60",
   "metadata": {},
   "source": [
    "SET B\n"
   ]
  },
  {
   "cell_type": "code",
   "execution_count": 43,
   "id": "4497dddf",
   "metadata": {
    "ExecuteTime": {
     "end_time": "2021-06-20T14:21:34.362686Z",
     "start_time": "2021-06-20T14:21:34.343702Z"
    }
   },
   "outputs": [],
   "source": [
    "set_b  = set_b[['tweet','sentiment','group']]\n",
    "groups_b = set_b['group'].unique()\n",
    "set_b = set_b[set_b['sentiment']!='normal']\n",
    "b_list = set_b['tweet'].tolist()"
   ]
  },
  {
   "cell_type": "code",
   "execution_count": 44,
   "id": "907261fe",
   "metadata": {
    "ExecuteTime": {
     "end_time": "2021-06-20T14:21:35.202259Z",
     "start_time": "2021-06-20T14:21:35.184261Z"
    }
   },
   "outputs": [
    {
     "data": {
      "text/html": [
       "<div>\n",
       "<style scoped>\n",
       "    .dataframe tbody tr th:only-of-type {\n",
       "        vertical-align: middle;\n",
       "    }\n",
       "\n",
       "    .dataframe tbody tr th {\n",
       "        vertical-align: top;\n",
       "    }\n",
       "\n",
       "    .dataframe thead th {\n",
       "        text-align: right;\n",
       "    }\n",
       "</style>\n",
       "<table border=\"1\" class=\"dataframe\">\n",
       "  <thead>\n",
       "    <tr style=\"text-align: right;\">\n",
       "      <th></th>\n",
       "      <th>tweet</th>\n",
       "      <th>sentiment</th>\n",
       "      <th>group</th>\n",
       "    </tr>\n",
       "  </thead>\n",
       "  <tbody>\n",
       "    <tr>\n",
       "      <th>0</th>\n",
       "      <td>If America had another 8 years of Obama's ideo...</td>\n",
       "      <td>fearful_abusive_hateful_disrespectful_normal</td>\n",
       "      <td>other</td>\n",
       "    </tr>\n",
       "    <tr>\n",
       "      <th>1</th>\n",
       "      <td>Most Canadians have never met seen or associat...</td>\n",
       "      <td>offensive</td>\n",
       "      <td>special_needs</td>\n",
       "    </tr>\n",
       "    <tr>\n",
       "      <th>2</th>\n",
       "      <td>Hahaha grow up faggot @URL</td>\n",
       "      <td>offensive</td>\n",
       "      <td>women</td>\n",
       "    </tr>\n",
       "    <tr>\n",
       "      <th>3</th>\n",
       "      <td>@user queue is fucking retarded it makes every...</td>\n",
       "      <td>offensive_hateful</td>\n",
       "      <td>special_needs</td>\n",
       "    </tr>\n",
       "    <tr>\n",
       "      <th>4</th>\n",
       "      <td>@user Que ce ne soit pas des Burundais refugie...</td>\n",
       "      <td>hateful_normal</td>\n",
       "      <td>other</td>\n",
       "    </tr>\n",
       "  </tbody>\n",
       "</table>\n",
       "</div>"
      ],
      "text/plain": [
       "                                               tweet  \\\n",
       "0  If America had another 8 years of Obama's ideo...   \n",
       "1  Most Canadians have never met seen or associat...   \n",
       "2                         Hahaha grow up faggot @URL   \n",
       "3  @user queue is fucking retarded it makes every...   \n",
       "4  @user Que ce ne soit pas des Burundais refugie...   \n",
       "\n",
       "                                      sentiment          group  \n",
       "0  fearful_abusive_hateful_disrespectful_normal          other  \n",
       "1                                     offensive  special_needs  \n",
       "2                                     offensive          women  \n",
       "3                             offensive_hateful  special_needs  \n",
       "4                                hateful_normal          other  "
      ]
     },
     "execution_count": 44,
     "metadata": {},
     "output_type": "execute_result"
    }
   ],
   "source": [
    "set_b.head()"
   ]
  },
  {
   "cell_type": "code",
   "execution_count": 45,
   "id": "d14a28b5",
   "metadata": {
    "ExecuteTime": {
     "end_time": "2021-06-20T14:21:39.816202Z",
     "start_time": "2021-06-20T14:21:39.808204Z"
    }
   },
   "outputs": [
    {
     "data": {
      "text/plain": [
       "[\"If America had another 8 years of Obama's ideology via Hillary we'd be well on our way to being a shithole country.\",\n",
       " 'Most Canadians have never met seen or associated with a person who are currently labelled as \\\\retarded\\\\ . I plan t\\\\u2026 @URL',\n",
       " 'Hahaha grow up faggot @URL',\n",
       " \"@user queue is fucking retarded it makes everyone feel like they don't even have a chance make it fcfs again for fucksake\",\n",
       " '@user Que ce ne soit pas des Burundais refugies Alerte car leur corps sont visibles a loeil nu']"
      ]
     },
     "execution_count": 45,
     "metadata": {},
     "output_type": "execute_result"
    }
   ],
   "source": [
    "b_list[:5]"
   ]
  },
  {
   "cell_type": "markdown",
   "id": "5d79401a",
   "metadata": {},
   "source": [
    " "
   ]
  },
  {
   "cell_type": "markdown",
   "id": "4e89e062",
   "metadata": {},
   "source": [
    " "
   ]
  },
  {
   "cell_type": "markdown",
   "id": "e6db5de9",
   "metadata": {},
   "source": [
    "SET C "
   ]
  },
  {
   "cell_type": "code",
   "execution_count": null,
   "id": "5c937760",
   "metadata": {
    "ExecuteTime": {
     "end_time": "2021-06-20T14:22:59.183694Z",
     "start_time": "2021-06-20T14:22:59.169722Z"
    }
   },
   "outputs": [],
   "source": [
    "c_list = set_c['text'].tolist()\n",
    "c_list[:5]"
   ]
  },
  {
   "cell_type": "markdown",
   "id": "a82425ee",
   "metadata": {},
   "source": [
    " "
   ]
  },
  {
   "cell_type": "markdown",
   "id": "6024c06b",
   "metadata": {},
   "source": [
    " "
   ]
  },
  {
   "cell_type": "markdown",
   "id": "bc9227a5",
   "metadata": {},
   "source": [
    "SET D "
   ]
  },
  {
   "cell_type": "code",
   "execution_count": 51,
   "id": "04c63c12",
   "metadata": {
    "ExecuteTime": {
     "end_time": "2021-06-20T15:43:40.304618Z",
     "start_time": "2021-06-20T15:43:40.258520Z"
    }
   },
   "outputs": [
    {
     "data": {
      "text/plain": [
       "[\"!!! RT @mayasolovely: As a woman you shouldn't complain about cleaning up your house. &amp; as a man you should always take the trash out...\",\n",
       " '!!!!! RT @mleew17: boy dats cold...tyga dwn bad for cuffin dat hoe in the 1st place!!',\n",
       " '!!!!!!! RT @UrKindOfBrand Dawg!!!! RT @80sbaby4life: You ever fuck a bitch and she start to cry? You be confused as shit',\n",
       " '!!!!!!!!! RT @C_G_Anderson: @viva_based she look like a tranny',\n",
       " '!!!!!!!!!!!!! RT @ShenikaRoberts: The shit you hear about me might be true or it might be faker than the bitch who told it to ya &#57361;']"
      ]
     },
     "execution_count": 51,
     "metadata": {},
     "output_type": "execute_result"
    }
   ],
   "source": [
    "d_list = set_d['tweet'].tolist()\n",
    "d_list[:5]"
   ]
  },
  {
   "cell_type": "markdown",
   "id": "93822f00",
   "metadata": {},
   "source": [
    " "
   ]
  },
  {
   "cell_type": "markdown",
   "id": "f2ef3cd7",
   "metadata": {},
   "source": [
    " "
   ]
  },
  {
   "cell_type": "markdown",
   "id": "bb01cba9",
   "metadata": {},
   "source": [
    "**Data Cleaning** "
   ]
  },
  {
   "cell_type": "code",
   "execution_count": null,
   "id": "c77f67eb",
   "metadata": {},
   "outputs": [],
   "source": []
  },
  {
   "cell_type": "code",
   "execution_count": null,
   "id": "bbd4d6bd",
   "metadata": {},
   "outputs": [],
   "source": []
  }
 ],
 "metadata": {
  "kernelspec": {
   "display_name": "Python 3",
   "language": "python",
   "name": "python3"
  },
  "language_info": {
   "codemirror_mode": {
    "name": "ipython",
    "version": 3
   },
   "file_extension": ".py",
   "mimetype": "text/x-python",
   "name": "python",
   "nbconvert_exporter": "python",
   "pygments_lexer": "ipython3",
   "version": "3.7.0"
  }
 },
 "nbformat": 4,
 "nbformat_minor": 5
}
